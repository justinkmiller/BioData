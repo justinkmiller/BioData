{
 "cells": [
  {
   "cell_type": "code",
   "execution_count": 1,
   "id": "d27ec248",
   "metadata": {
    "ExecuteTime": {
     "end_time": "2023-12-19T10:51:37.892609Z",
     "start_time": "2023-12-19T10:51:36.187385Z"
    }
   },
   "outputs": [],
   "source": [
    "import pandas as pd\n",
    "from emoji import demojize\n",
    "import nltk\n",
    "import re\n",
    "from gensim.models.ldamodel import LdaModel\n",
    "from gensim.corpora.dictionary import Dictionary\n",
    "import numpy as np\n",
    "from sklearn.mixture import GaussianMixture as GMM\n",
    "from sklearn.feature_extraction.text import CountVectorizer\n",
    "from emoji import emojize, is_emoji\n",
    "import random"
   ]
  },
  {
   "cell_type": "code",
   "execution_count": 2,
   "id": "3755f01d",
   "metadata": {
    "ExecuteTime": {
     "end_time": "2023-12-19T10:51:39.409364Z",
     "start_time": "2023-12-19T10:51:38.335348Z"
    }
   },
   "outputs": [],
   "source": [
    "#Import dataset and convert emojis to text\n",
    "df = pd.read_csv(r'Twitter_Bios.csv', encoding='utf-8')\n",
    "df['Bio_emoji'] = df['Bios']\n",
    "df['Bios'] = df['Bios'].map(lambda x: demojize(x))"
   ]
  },
  {
   "cell_type": "markdown",
   "id": "76d813cc",
   "metadata": {},
   "source": [
    "# Create LDA Model"
   ]
  },
  {
   "cell_type": "code",
   "execution_count": 3,
   "id": "525ad180",
   "metadata": {
    "ExecuteTime": {
     "end_time": "2023-12-19T10:51:39.470204Z",
     "start_time": "2023-12-19T10:51:39.456242Z"
    }
   },
   "outputs": [],
   "source": [
    "'''\n",
    "Preprocess a string.\n",
    ":parameter\n",
    "    :param text: string - name of column containing text\n",
    "    :param lst_stopwords: list - list of stopwords to remove\n",
    "    :param flg_stemm: bool - whether stemming is to be applied\n",
    "    :param flg_lemm: bool - whether lemmitisation is to be applied\n",
    ":return\n",
    "    cleaned text\n",
    "'''\n",
    "\n",
    "def utils_preprocess_text(text, lst_stopwords):\n",
    "    ## clean (convert to lowercase and remove punctuations and   characters and then strip)\n",
    "    text = text.replace(\":\", \" \")\n",
    "    text = re.sub(r'[^\\w\\s]', '', str(text).lower().strip())\n",
    "            \n",
    "    ## Tokenize (convert from string to list)\n",
    "    lst_text = text.split()\n",
    "    ## remove Stopwords\n",
    "    #lst_text = [word for word in lst_text if word not in \n",
    "    #                lst_stopwords]             \n",
    "    lem = nltk.stem.wordnet.WordNetLemmatizer()\n",
    "    lst_text = [lem.lemmatize(word) for word in lst_text]\n",
    "            \n",
    "    ## back to string from list\n",
    "    text = \" \".join(lst_text)\n",
    "    return text"
   ]
  },
  {
   "cell_type": "code",
   "execution_count": 4,
   "id": "7c25c081",
   "metadata": {
    "ExecuteTime": {
     "end_time": "2023-12-19T10:51:43.553559Z",
     "start_time": "2023-12-19T10:51:40.863454Z"
    }
   },
   "outputs": [],
   "source": [
    "#Remove stop words and Lemmatise words\n",
    "lst_stopwords = nltk.corpus.stopwords.words(\"english\")\n",
    "df[\"text_clean\"] = df[\"Bios\"].apply(lambda x: \n",
    "          utils_preprocess_text(x, \n",
    "          lst_stopwords= lst_stopwords))"
   ]
  },
  {
   "cell_type": "code",
   "execution_count": 5,
   "id": "a1526403",
   "metadata": {
    "ExecuteTime": {
     "end_time": "2023-12-19T10:51:46.662590Z",
     "start_time": "2023-12-19T10:51:43.586399Z"
    }
   },
   "outputs": [],
   "source": [
    "#Tokenize clean text\n",
    "tokenized_doc = []\n",
    "for d in df.text_clean.values.tolist():\n",
    "    tokenized_doc.append(nltk.tokenize.word_tokenize(str(d)))\n",
    "df['Tokenized_words'] = tokenized_doc    "
   ]
  },
  {
   "cell_type": "code",
   "execution_count": 6,
   "id": "f7429ce5",
   "metadata": {
    "ExecuteTime": {
     "end_time": "2023-12-19T10:51:47.715424Z",
     "start_time": "2023-12-19T10:51:46.836670Z"
    }
   },
   "outputs": [],
   "source": [
    "#Create Dictionary and Corpus\n",
    "dictionary = Dictionary(tokenized_doc)\n",
    "corpus = [dictionary.doc2bow(text) for text in tokenized_doc]"
   ]
  },
  {
   "cell_type": "code",
   "execution_count": 7,
   "id": "83d454c0",
   "metadata": {
    "ExecuteTime": {
     "end_time": "2023-12-19T10:51:54.402903Z",
     "start_time": "2023-12-19T10:51:48.171046Z"
    }
   },
   "outputs": [],
   "source": [
    "import itertools\n",
    "tokenized_doc = []\n",
    "for d in df.Bios.values.tolist():\n",
    "    tokenized_doc.append(nltk.tokenize.word_tokenize(str(d)))\n",
    "all_words = list(itertools.chain(*tokenized_doc))"
   ]
  },
  {
   "cell_type": "code",
   "execution_count": 8,
   "id": "e500fa36",
   "metadata": {
    "ExecuteTime": {
     "end_time": "2023-12-19T10:52:04.144322Z",
     "start_time": "2023-12-19T10:51:55.072121Z"
    }
   },
   "outputs": [],
   "source": [
    "#Create LDA Model\n",
    "np.random.seed(0)\n",
    "goodLdaModel = LdaModel(corpus=corpus, id2word=dictionary, num_topics=10)"
   ]
  },
  {
   "cell_type": "code",
   "execution_count": 9,
   "id": "86d94a65",
   "metadata": {
    "ExecuteTime": {
     "end_time": "2023-12-19T10:52:04.816946Z",
     "start_time": "2023-12-19T10:52:04.801932Z"
    }
   },
   "outputs": [],
   "source": [
    "#Function to get highest probable topic number from each bio\n",
    "def get_doc_topic(corpus, model):\n",
    "    doc_topic = list()\n",
    "    for doc in corpus:\n",
    "        vals = model.__getitem__(doc, eps = 0)\n",
    "        \n",
    "        doc_topic.append([x[1] for x in vals])\n",
    "    return doc_topic"
   ]
  },
  {
   "cell_type": "code",
   "execution_count": 10,
   "id": "e00c9f3d",
   "metadata": {
    "ExecuteTime": {
     "end_time": "2023-12-19T10:52:12.209427Z",
     "start_time": "2023-12-19T10:52:05.467256Z"
    }
   },
   "outputs": [],
   "source": [
    "#Assign each bio the most probable topic that it falls under\n",
    "doc_topic = get_doc_topic(corpus,goodLdaModel)\n",
    "lda_df = pd.DataFrame(doc_topic)\n",
    "predict_lda = lda_df.idxmax(axis=1)\n",
    "df['LDA_Class_10'] = predict_lda"
   ]
  },
  {
   "cell_type": "code",
   "execution_count": 11,
   "id": "fee4ab2f",
   "metadata": {
    "ExecuteTime": {
     "end_time": "2023-12-19T11:05:24.797078Z",
     "start_time": "2023-12-19T10:52:13.147481Z"
    }
   },
   "outputs": [],
   "source": [
    "# Function to run the LDA model and get predictions\n",
    "def run_lda(seed, corpus, dictionary):\n",
    "    np.random.seed(seed)\n",
    "    lda_model = LdaModel(corpus=corpus, id2word=dictionary, num_topics=10)\n",
    "    doc_topic = get_doc_topic(corpus, lda_model)\n",
    "    lda_df = pd.DataFrame(doc_topic)\n",
    "    return lda_df.idxmax(axis=1)\n",
    "\n",
    "# Running the LDA model in a loop and collecting predictions\n",
    "all_predictions = []\n",
    "for i in range(50):\n",
    "    predict_lda = run_lda(i, corpus, dictionary)\n",
    "    all_predictions.append(predict_lda)\n",
    "\n",
    "# Converting the list of predictions to a DataFrame\n",
    "LDA_df = pd.DataFrame(all_predictions).transpose()"
   ]
  },
  {
   "cell_type": "code",
   "execution_count": 12,
   "id": "692c6ae4",
   "metadata": {
    "ExecuteTime": {
     "end_time": "2023-12-19T11:05:45.890431Z",
     "start_time": "2023-12-19T11:05:45.851120Z"
    }
   },
   "outputs": [
    {
     "data": {
      "text/html": [
       "<div>\n",
       "<style scoped>\n",
       "    .dataframe tbody tr th:only-of-type {\n",
       "        vertical-align: middle;\n",
       "    }\n",
       "\n",
       "    .dataframe tbody tr th {\n",
       "        vertical-align: top;\n",
       "    }\n",
       "\n",
       "    .dataframe thead th {\n",
       "        text-align: right;\n",
       "    }\n",
       "</style>\n",
       "<table border=\"1\" class=\"dataframe\">\n",
       "  <thead>\n",
       "    <tr style=\"text-align: right;\">\n",
       "      <th></th>\n",
       "      <th>0</th>\n",
       "      <th>1</th>\n",
       "      <th>2</th>\n",
       "      <th>3</th>\n",
       "      <th>4</th>\n",
       "      <th>5</th>\n",
       "      <th>6</th>\n",
       "      <th>7</th>\n",
       "      <th>8</th>\n",
       "      <th>9</th>\n",
       "      <th>...</th>\n",
       "      <th>40</th>\n",
       "      <th>41</th>\n",
       "      <th>42</th>\n",
       "      <th>43</th>\n",
       "      <th>44</th>\n",
       "      <th>45</th>\n",
       "      <th>46</th>\n",
       "      <th>47</th>\n",
       "      <th>48</th>\n",
       "      <th>49</th>\n",
       "    </tr>\n",
       "  </thead>\n",
       "  <tbody>\n",
       "    <tr>\n",
       "      <th>0</th>\n",
       "      <td>2</td>\n",
       "      <td>1</td>\n",
       "      <td>8</td>\n",
       "      <td>9</td>\n",
       "      <td>7</td>\n",
       "      <td>2</td>\n",
       "      <td>5</td>\n",
       "      <td>3</td>\n",
       "      <td>1</td>\n",
       "      <td>4</td>\n",
       "      <td>...</td>\n",
       "      <td>7</td>\n",
       "      <td>3</td>\n",
       "      <td>6</td>\n",
       "      <td>6</td>\n",
       "      <td>9</td>\n",
       "      <td>7</td>\n",
       "      <td>8</td>\n",
       "      <td>1</td>\n",
       "      <td>5</td>\n",
       "      <td>6</td>\n",
       "    </tr>\n",
       "    <tr>\n",
       "      <th>1</th>\n",
       "      <td>8</td>\n",
       "      <td>8</td>\n",
       "      <td>7</td>\n",
       "      <td>8</td>\n",
       "      <td>3</td>\n",
       "      <td>0</td>\n",
       "      <td>9</td>\n",
       "      <td>3</td>\n",
       "      <td>7</td>\n",
       "      <td>6</td>\n",
       "      <td>...</td>\n",
       "      <td>1</td>\n",
       "      <td>0</td>\n",
       "      <td>6</td>\n",
       "      <td>2</td>\n",
       "      <td>5</td>\n",
       "      <td>4</td>\n",
       "      <td>9</td>\n",
       "      <td>5</td>\n",
       "      <td>6</td>\n",
       "      <td>6</td>\n",
       "    </tr>\n",
       "    <tr>\n",
       "      <th>2</th>\n",
       "      <td>8</td>\n",
       "      <td>0</td>\n",
       "      <td>3</td>\n",
       "      <td>0</td>\n",
       "      <td>9</td>\n",
       "      <td>0</td>\n",
       "      <td>5</td>\n",
       "      <td>1</td>\n",
       "      <td>1</td>\n",
       "      <td>9</td>\n",
       "      <td>...</td>\n",
       "      <td>3</td>\n",
       "      <td>3</td>\n",
       "      <td>6</td>\n",
       "      <td>2</td>\n",
       "      <td>0</td>\n",
       "      <td>7</td>\n",
       "      <td>7</td>\n",
       "      <td>7</td>\n",
       "      <td>9</td>\n",
       "      <td>6</td>\n",
       "    </tr>\n",
       "    <tr>\n",
       "      <th>3</th>\n",
       "      <td>6</td>\n",
       "      <td>8</td>\n",
       "      <td>4</td>\n",
       "      <td>4</td>\n",
       "      <td>0</td>\n",
       "      <td>2</td>\n",
       "      <td>8</td>\n",
       "      <td>8</td>\n",
       "      <td>0</td>\n",
       "      <td>0</td>\n",
       "      <td>...</td>\n",
       "      <td>0</td>\n",
       "      <td>6</td>\n",
       "      <td>9</td>\n",
       "      <td>8</td>\n",
       "      <td>9</td>\n",
       "      <td>7</td>\n",
       "      <td>1</td>\n",
       "      <td>8</td>\n",
       "      <td>8</td>\n",
       "      <td>9</td>\n",
       "    </tr>\n",
       "    <tr>\n",
       "      <th>4</th>\n",
       "      <td>0</td>\n",
       "      <td>7</td>\n",
       "      <td>3</td>\n",
       "      <td>0</td>\n",
       "      <td>4</td>\n",
       "      <td>5</td>\n",
       "      <td>5</td>\n",
       "      <td>7</td>\n",
       "      <td>6</td>\n",
       "      <td>9</td>\n",
       "      <td>...</td>\n",
       "      <td>5</td>\n",
       "      <td>1</td>\n",
       "      <td>0</td>\n",
       "      <td>5</td>\n",
       "      <td>6</td>\n",
       "      <td>6</td>\n",
       "      <td>3</td>\n",
       "      <td>5</td>\n",
       "      <td>2</td>\n",
       "      <td>7</td>\n",
       "    </tr>\n",
       "    <tr>\n",
       "      <th>...</th>\n",
       "      <td>...</td>\n",
       "      <td>...</td>\n",
       "      <td>...</td>\n",
       "      <td>...</td>\n",
       "      <td>...</td>\n",
       "      <td>...</td>\n",
       "      <td>...</td>\n",
       "      <td>...</td>\n",
       "      <td>...</td>\n",
       "      <td>...</td>\n",
       "      <td>...</td>\n",
       "      <td>...</td>\n",
       "      <td>...</td>\n",
       "      <td>...</td>\n",
       "      <td>...</td>\n",
       "      <td>...</td>\n",
       "      <td>...</td>\n",
       "      <td>...</td>\n",
       "      <td>...</td>\n",
       "      <td>...</td>\n",
       "      <td>...</td>\n",
       "    </tr>\n",
       "    <tr>\n",
       "      <th>38634</th>\n",
       "      <td>3</td>\n",
       "      <td>9</td>\n",
       "      <td>4</td>\n",
       "      <td>3</td>\n",
       "      <td>0</td>\n",
       "      <td>2</td>\n",
       "      <td>5</td>\n",
       "      <td>8</td>\n",
       "      <td>0</td>\n",
       "      <td>0</td>\n",
       "      <td>...</td>\n",
       "      <td>0</td>\n",
       "      <td>6</td>\n",
       "      <td>9</td>\n",
       "      <td>0</td>\n",
       "      <td>9</td>\n",
       "      <td>7</td>\n",
       "      <td>2</td>\n",
       "      <td>8</td>\n",
       "      <td>7</td>\n",
       "      <td>9</td>\n",
       "    </tr>\n",
       "    <tr>\n",
       "      <th>38635</th>\n",
       "      <td>8</td>\n",
       "      <td>1</td>\n",
       "      <td>8</td>\n",
       "      <td>9</td>\n",
       "      <td>8</td>\n",
       "      <td>0</td>\n",
       "      <td>9</td>\n",
       "      <td>3</td>\n",
       "      <td>3</td>\n",
       "      <td>4</td>\n",
       "      <td>...</td>\n",
       "      <td>7</td>\n",
       "      <td>3</td>\n",
       "      <td>6</td>\n",
       "      <td>5</td>\n",
       "      <td>5</td>\n",
       "      <td>0</td>\n",
       "      <td>6</td>\n",
       "      <td>3</td>\n",
       "      <td>3</td>\n",
       "      <td>1</td>\n",
       "    </tr>\n",
       "    <tr>\n",
       "      <th>38636</th>\n",
       "      <td>9</td>\n",
       "      <td>5</td>\n",
       "      <td>2</td>\n",
       "      <td>4</td>\n",
       "      <td>1</td>\n",
       "      <td>2</td>\n",
       "      <td>4</td>\n",
       "      <td>8</td>\n",
       "      <td>0</td>\n",
       "      <td>2</td>\n",
       "      <td>...</td>\n",
       "      <td>0</td>\n",
       "      <td>8</td>\n",
       "      <td>9</td>\n",
       "      <td>9</td>\n",
       "      <td>2</td>\n",
       "      <td>7</td>\n",
       "      <td>5</td>\n",
       "      <td>9</td>\n",
       "      <td>0</td>\n",
       "      <td>9</td>\n",
       "    </tr>\n",
       "    <tr>\n",
       "      <th>38637</th>\n",
       "      <td>3</td>\n",
       "      <td>3</td>\n",
       "      <td>4</td>\n",
       "      <td>3</td>\n",
       "      <td>0</td>\n",
       "      <td>1</td>\n",
       "      <td>8</td>\n",
       "      <td>8</td>\n",
       "      <td>0</td>\n",
       "      <td>0</td>\n",
       "      <td>...</td>\n",
       "      <td>0</td>\n",
       "      <td>6</td>\n",
       "      <td>9</td>\n",
       "      <td>0</td>\n",
       "      <td>9</td>\n",
       "      <td>7</td>\n",
       "      <td>1</td>\n",
       "      <td>8</td>\n",
       "      <td>8</td>\n",
       "      <td>9</td>\n",
       "    </tr>\n",
       "    <tr>\n",
       "      <th>38638</th>\n",
       "      <td>9</td>\n",
       "      <td>5</td>\n",
       "      <td>2</td>\n",
       "      <td>6</td>\n",
       "      <td>1</td>\n",
       "      <td>4</td>\n",
       "      <td>4</td>\n",
       "      <td>6</td>\n",
       "      <td>5</td>\n",
       "      <td>2</td>\n",
       "      <td>...</td>\n",
       "      <td>9</td>\n",
       "      <td>1</td>\n",
       "      <td>7</td>\n",
       "      <td>9</td>\n",
       "      <td>2</td>\n",
       "      <td>9</td>\n",
       "      <td>5</td>\n",
       "      <td>9</td>\n",
       "      <td>0</td>\n",
       "      <td>5</td>\n",
       "    </tr>\n",
       "  </tbody>\n",
       "</table>\n",
       "<p>38639 rows × 50 columns</p>\n",
       "</div>"
      ],
      "text/plain": [
       "       0   1   2   3   4   5   6   7   8   9   ...  40  41  42  43  44  45  \\\n",
       "0       2   1   8   9   7   2   5   3   1   4  ...   7   3   6   6   9   7   \n",
       "1       8   8   7   8   3   0   9   3   7   6  ...   1   0   6   2   5   4   \n",
       "2       8   0   3   0   9   0   5   1   1   9  ...   3   3   6   2   0   7   \n",
       "3       6   8   4   4   0   2   8   8   0   0  ...   0   6   9   8   9   7   \n",
       "4       0   7   3   0   4   5   5   7   6   9  ...   5   1   0   5   6   6   \n",
       "...    ..  ..  ..  ..  ..  ..  ..  ..  ..  ..  ...  ..  ..  ..  ..  ..  ..   \n",
       "38634   3   9   4   3   0   2   5   8   0   0  ...   0   6   9   0   9   7   \n",
       "38635   8   1   8   9   8   0   9   3   3   4  ...   7   3   6   5   5   0   \n",
       "38636   9   5   2   4   1   2   4   8   0   2  ...   0   8   9   9   2   7   \n",
       "38637   3   3   4   3   0   1   8   8   0   0  ...   0   6   9   0   9   7   \n",
       "38638   9   5   2   6   1   4   4   6   5   2  ...   9   1   7   9   2   9   \n",
       "\n",
       "       46  47  48  49  \n",
       "0       8   1   5   6  \n",
       "1       9   5   6   6  \n",
       "2       7   7   9   6  \n",
       "3       1   8   8   9  \n",
       "4       3   5   2   7  \n",
       "...    ..  ..  ..  ..  \n",
       "38634   2   8   7   9  \n",
       "38635   6   3   3   1  \n",
       "38636   5   9   0   9  \n",
       "38637   1   8   8   9  \n",
       "38638   5   9   0   5  \n",
       "\n",
       "[38639 rows x 50 columns]"
      ]
     },
     "execution_count": 12,
     "metadata": {},
     "output_type": "execute_result"
    }
   ],
   "source": [
    "LDA_df"
   ]
  },
  {
   "cell_type": "code",
   "execution_count": 13,
   "id": "ee07010f",
   "metadata": {
    "ExecuteTime": {
     "end_time": "2023-12-19T11:06:57.827796Z",
     "start_time": "2023-12-19T11:05:58.851498Z"
    }
   },
   "outputs": [],
   "source": [
    "from sklearn.metrics.cluster import adjusted_mutual_info_score\n",
    "# Number of columns in the DataFrame\n",
    "n_columns = LDA_df.shape[1]\n",
    "\n",
    "# Initializing an empty matrix for adjusted mutual information scores\n",
    "ami_matrix = np.zeros((n_columns, n_columns))\n",
    "\n",
    "# Calculating AMI for each pair of columns\n",
    "for i in range(n_columns):\n",
    "    for j in range(i+1, n_columns):\n",
    "        ami = adjusted_mutual_info_score(LDA_df.iloc[:, i], LDA_df.iloc[:, j])\n",
    "        ami_matrix[i, j] = ami\n",
    "        ami_matrix[j, i] = ami  # Symmetric matrix\n",
    "\n",
    "# Since the diagonal values are always 1 (perfect agreement with themselves), we exclude them\n",
    "np.fill_diagonal(ami_matrix, 0)\n",
    "\n",
    "# Calculating the average AMI, excluding the diagonal\n",
    "average_ami = np.sum(ami_matrix) / (n_columns * (n_columns - 1))"
   ]
  },
  {
   "cell_type": "code",
   "execution_count": 14,
   "id": "21354c73",
   "metadata": {
    "ExecuteTime": {
     "end_time": "2023-12-19T11:06:58.878895Z",
     "start_time": "2023-12-19T11:06:58.864877Z"
    },
    "scrolled": true
   },
   "outputs": [
    {
     "name": "stdout",
     "output_type": "stream",
     "text": [
      "0.2459547106625045\n",
      "0.022341277943506068\n"
     ]
    }
   ],
   "source": [
    "upper_tri = ami_matrix[np.triu_indices(n_columns, k=1)]\n",
    "\n",
    "# Calculate the standard deviation\n",
    "average_ami = np.mean(upper_tri)\n",
    "std_ami = np.std(upper_tri)\n",
    "print(average_ami)\n",
    "print(std_ami)\n"
   ]
  },
  {
   "cell_type": "code",
   "execution_count": 19,
   "id": "94815733",
   "metadata": {
    "ExecuteTime": {
     "end_time": "2023-12-19T11:15:33.032698Z",
     "start_time": "2023-12-19T11:15:32.833332Z"
    }
   },
   "outputs": [
    {
     "data": {
      "image/png": "[encoded data removed]",
      "text/plain": [
       "<Figure size 350x350 with 1 Axes>"
      ]
     },
     "metadata": {},
     "output_type": "display_data"
    }
   ],
   "source": [
    "import matplotlib.pyplot as plt\n",
    "# Set the size of the figure\n",
    "plt.figure(figsize=(3.5, 3.5))\n",
    "\n",
    "# Set the font properties\n",
    "plt.rcParams.update({'font.size': 8, 'font.family': 'sans-serif'})\n",
    "\n",
    "# Plotting the histogram without grid\n",
    "plt.hist(upper_tri, bins=20, color='blue', alpha=0.7)\n",
    "plt.xlabel('AMI Value')\n",
    "plt.ylabel('Frequency')\n",
    "\n",
    "# Removing the top and right axis lines\n",
    "plt.gca().spines['top'].set_visible(False)\n",
    "plt.gca().spines['right'].set_visible(False)\n",
    "\n",
    "# Display the plot\n",
    "plt.savefig('LDA_Stability.pdf', format='pdf', bbox_inches='tight')\n",
    "plt.show()\n"
   ]
  },
  {
   "cell_type": "markdown",
   "id": "f649360d",
   "metadata": {},
   "source": [
    "# Create Doc2vec Model"
   ]
  },
  {
   "cell_type": "code",
   "execution_count": 20,
   "id": "1cc27293",
   "metadata": {
    "ExecuteTime": {
     "end_time": "2023-12-19T11:15:56.885516Z",
     "start_time": "2023-12-19T11:15:56.878026Z"
    }
   },
   "outputs": [],
   "source": [
    "from gensim.models.doc2vec import Doc2Vec, TaggedDocument"
   ]
  },
  {
   "cell_type": "code",
   "execution_count": 21,
   "id": "dc60b7b2",
   "metadata": {
    "ExecuteTime": {
     "end_time": "2023-12-19T11:15:58.052125Z",
     "start_time": "2023-12-19T11:15:58.022775Z"
    }
   },
   "outputs": [],
   "source": [
    "tagged_data = [TaggedDocument(d, [i]) for i, d in enumerate(tokenized_doc)]"
   ]
  },
  {
   "cell_type": "code",
   "execution_count": 22,
   "id": "62e6fcb4",
   "metadata": {
    "ExecuteTime": {
     "end_time": "2023-12-19T11:17:42.839010Z",
     "start_time": "2023-12-19T11:15:59.306513Z"
    }
   },
   "outputs": [],
   "source": [
    "model_doc2vec = Doc2Vec(dm = 1, vector_size=100, window=5, seed = 42, epochs = 75)\n",
    "model_doc2vec.build_vocab(tagged_data)\n",
    "model_doc2vec.train(tagged_data, total_examples=model_doc2vec.corpus_count, epochs=model_doc2vec.epochs)"
   ]
  },
  {
   "cell_type": "code",
   "execution_count": 23,
   "id": "1ae1a3a3",
   "metadata": {
    "ExecuteTime": {
     "end_time": "2023-12-19T11:17:44.221270Z",
     "start_time": "2023-12-19T11:17:44.112940Z"
    }
   },
   "outputs": [],
   "source": [
    "get_doc_vecs = model_doc2vec.dv.index_to_key\n",
    "doc_vector = []\n",
    "for i in get_doc_vecs:\n",
    "    doc_vector.append(model_doc2vec[i])\n",
    "doc_vector = np.array(doc_vector)"
   ]
  },
  {
   "cell_type": "code",
   "execution_count": 24,
   "id": "255f4ce5",
   "metadata": {
    "ExecuteTime": {
     "end_time": "2023-12-19T11:18:06.282397Z",
     "start_time": "2023-12-19T11:17:45.476086Z"
    }
   },
   "outputs": [],
   "source": [
    "gmm_Doc2vec = GMM(10, covariance_type='diag',max_iter= 30000, random_state = 0).fit(doc_vector)"
   ]
  },
  {
   "cell_type": "code",
   "execution_count": 25,
   "id": "a405234a",
   "metadata": {
    "ExecuteTime": {
     "end_time": "2023-12-19T11:18:07.660241Z",
     "start_time": "2023-12-19T11:18:07.567921Z"
    }
   },
   "outputs": [],
   "source": [
    "xlabs = gmm_Doc2vec.predict(doc_vector)"
   ]
  },
  {
   "cell_type": "code",
   "execution_count": 26,
   "id": "82ebc866",
   "metadata": {
    "ExecuteTime": {
     "end_time": "2023-11-30T11:06:00.937288Z",
     "start_time": "2023-11-30T11:05:35.984364Z"
    }
   },
   "outputs": [],
   "source": [
    "from sklearn import metrics\n",
    "x = metrics.silhouette_samples(doc_vector, xlabs, metric='euclidean')"
   ]
  },
  {
   "cell_type": "code",
   "execution_count": 27,
   "id": "ccf6cfaa",
   "metadata": {
    "ExecuteTime": {
     "end_time": "2023-11-30T11:06:03.031606Z",
     "start_time": "2023-11-30T11:06:02.240702Z"
    }
   },
   "outputs": [
    {
     "data": {
      "image/png": "[encoded data removed]",
      "text/plain": [
       "<Figure size 640x480 with 1 Axes>"
      ]
     },
     "metadata": {},
     "output_type": "display_data"
    }
   ],
   "source": [
    "import matplotlib.pyplot as plt\n",
    "plt.hist(x, bins=50)\n",
    "plt.show()"
   ]
  },
  {
   "cell_type": "code",
   "execution_count": 21,
   "id": "ecec6b7f",
   "metadata": {
    "ExecuteTime": {
     "end_time": "2023-04-09T06:49:40.969112Z",
     "start_time": "2023-04-09T06:49:40.922278Z"
    }
   },
   "outputs": [
    {
     "name": "stdout",
     "output_type": "stream",
     "text": [
      "0   0.0\n",
      "1   0.24696597\n",
      "2   -0.28461888\n",
      "3   -0.20390967\n",
      "4   0.2605252\n",
      "5   -0.016065432\n",
      "6   -0.22814338\n",
      "7   -0.28926313\n",
      "8   -0.26975697\n",
      "9   -0.28721294\n"
     ]
    }
   ],
   "source": [
    "df['silhouette_score'] = x\n",
    "\n",
    "for i in np.unique(df['Docs2vec_Class_10']):\n",
    "    small_df  = df[df[\"Docs2vec_Class_10\"] == i]\n",
    "    print(i,' ', np.mean(small_df['silhouette_score']))\n"
   ]
  },
  {
   "cell_type": "code",
   "execution_count": 28,
   "id": "8c5bab0f",
   "metadata": {
    "ExecuteTime": {
     "end_time": "2023-11-30T11:06:04.471883Z",
     "start_time": "2023-11-30T11:06:04.395967Z"
    }
   },
   "outputs": [],
   "source": [
    "df['Docs2vec_Class_10'] = gmm_Doc2vec.predict(doc_vector)"
   ]
  },
  {
   "cell_type": "code",
   "execution_count": 26,
   "id": "73a00e99",
   "metadata": {
    "ExecuteTime": {
     "end_time": "2023-12-19T11:33:37.293358Z",
     "start_time": "2023-12-19T11:18:08.934327Z"
    }
   },
   "outputs": [],
   "source": [
    "# Function to run the LDA model and get predictions\n",
    "def run_gmm(seed, vector_data):\n",
    "    gmm_Doc2vec = GMM(10, covariance_type='diag',max_iter= 30000, random_state = seed).fit(vector_data)\n",
    "    return gmm_Doc2vec.predict(vector_data)\n",
    "\n",
    "# Running the LDA model in a loop and collecting predictions\n",
    "all_predictions = []\n",
    "for i in range(50):\n",
    "    predict_doc = run_gmm(i, doc_vector)\n",
    "    all_predictions.append(predict_doc)\n",
    "\n",
    "# Converting the list of predictions to a DataFrame\n",
    "doc2vec_df = pd.DataFrame(all_predictions).transpose()"
   ]
  },
  {
   "cell_type": "code",
   "execution_count": 27,
   "id": "00609621",
   "metadata": {
    "ExecuteTime": {
     "end_time": "2023-12-19T11:34:51.136518Z",
     "start_time": "2023-12-19T11:33:52.495515Z"
    }
   },
   "outputs": [],
   "source": [
    "from sklearn.metrics.cluster import adjusted_mutual_info_score\n",
    "# Number of columns in the DataFrame\n",
    "n_columns = doc2vec_df.shape[1]\n",
    "\n",
    "# Initializing an empty matrix for adjusted mutual information scores\n",
    "ami_matrix = np.zeros((n_columns, n_columns))\n",
    "\n",
    "# Calculating AMI for each pair of columns\n",
    "for i in range(n_columns):\n",
    "    for j in range(i+1, n_columns):\n",
    "        ami = adjusted_mutual_info_score(doc2vec_df.iloc[:, i], doc2vec_df.iloc[:, j])\n",
    "        ami_matrix[i, j] = ami\n",
    "        ami_matrix[j, i] = ami  # Symmetric matrix\n",
    "\n",
    "# Since the diagonal values are always 1 (perfect agreement with themselves), we exclude them\n",
    "np.fill_diagonal(ami_matrix, 0)"
   ]
  },
  {
   "cell_type": "code",
   "execution_count": 28,
   "id": "19e30004",
   "metadata": {
    "ExecuteTime": {
     "end_time": "2023-12-19T11:34:52.408902Z",
     "start_time": "2023-12-19T11:34:52.395789Z"
    }
   },
   "outputs": [
    {
     "name": "stdout",
     "output_type": "stream",
     "text": [
      "0.9127249646291248\n",
      "0.0735209024507468\n"
     ]
    }
   ],
   "source": [
    "upper_tri = ami_matrix[np.triu_indices(n_columns, k=1)]\n",
    "\n",
    "# Calculate the standard deviation\n",
    "average_ami = np.mean(upper_tri)\n",
    "std_ami = np.std(upper_tri)\n",
    "print(average_ami)\n",
    "print(std_ami)\n"
   ]
  },
  {
   "cell_type": "code",
   "execution_count": 29,
   "id": "3ea6ccd6",
   "metadata": {
    "ExecuteTime": {
     "end_time": "2023-12-19T11:35:17.551808Z",
     "start_time": "2023-12-19T11:35:17.328273Z"
    }
   },
   "outputs": [
    {
     "data": {
      "image/png": "[encoded data removed]",
      "text/plain": [
       "<Figure size 350x350 with 1 Axes>"
      ]
     },
     "metadata": {},
     "output_type": "display_data"
    }
   ],
   "source": [
    "import matplotlib.pyplot as plt\n",
    "# Set the size of the figure\n",
    "plt.figure(figsize=(3.5, 3.5))\n",
    "\n",
    "# Set the font properties\n",
    "plt.rcParams.update({'font.size': 8, 'font.family': 'sans-serif'})\n",
    "\n",
    "# Plotting the histogram without grid\n",
    "plt.hist(upper_tri, bins=20, color='blue', alpha=0.7)\n",
    "plt.xlabel('AMI Value')\n",
    "plt.ylabel('Frequency')\n",
    "\n",
    "# Removing the top and right axis lines\n",
    "plt.gca().spines['top'].set_visible(False)\n",
    "plt.gca().spines['right'].set_visible(False)\n",
    "\n",
    "# Display the plot\n",
    "plt.savefig('Doc2vec_Stability.pdf', format='pdf', bbox_inches='tight')\n",
    "plt.show()\n"
   ]
  },
  {
   "cell_type": "markdown",
   "id": "54c713aa",
   "metadata": {},
   "source": [
    "# Create Transformer Model"
   ]
  },
  {
   "cell_type": "code",
   "execution_count": null,
   "id": "d21e6f1d",
   "metadata": {},
   "outputs": [],
   "source": []
  },
  {
   "cell_type": "code",
   "execution_count": 30,
   "id": "7576772f",
   "metadata": {
    "ExecuteTime": {
     "end_time": "2023-12-19T11:35:49.046229Z",
     "start_time": "2023-12-19T11:35:47.213297Z"
    }
   },
   "outputs": [],
   "source": [
    "#Create Transformer embeddings\n",
    "#from sentence_transformers import SentenceTransformer\n",
    "#model = SentenceTransformer('all-MiniLM-L6-v2')\n",
    "# convert twitter bios into embeddings\n",
    "#embeddings = df['Bio'].map(lambda x: model.encode(x))\n",
    "#embeddings = embeddings.to_frame()\n",
    "#embeddings = embeddings['Bio'].apply(pd.Series)\n",
    "embeddings = pd.read_csv(r'embeddings.csv')"
   ]
  },
  {
   "cell_type": "code",
   "execution_count": 31,
   "id": "038dd680",
   "metadata": {
    "ExecuteTime": {
     "end_time": "2023-12-19T11:35:54.366204Z",
     "start_time": "2023-12-19T11:35:50.334983Z"
    }
   },
   "outputs": [],
   "source": [
    "gmm_Transformer = GMM(10, covariance_type='diag',max_iter= 30000, random_state = 0).fit(embeddings)"
   ]
  },
  {
   "cell_type": "code",
   "execution_count": 32,
   "id": "84d84905",
   "metadata": {
    "ExecuteTime": {
     "end_time": "2023-12-19T11:35:55.842550Z",
     "start_time": "2023-12-19T11:35:55.639066Z"
    }
   },
   "outputs": [],
   "source": [
    "df['Transformer_Class_10'] = gmm_Transformer.predict(embeddings)"
   ]
  },
  {
   "cell_type": "code",
   "execution_count": 33,
   "id": "d2dc7b83",
   "metadata": {
    "ExecuteTime": {
     "end_time": "2023-12-19T11:39:22.677983Z",
     "start_time": "2023-12-19T11:35:57.125752Z"
    }
   },
   "outputs": [],
   "source": [
    "all_predictions = []\n",
    "for i in range(50):\n",
    "    predict_doc = run_gmm(i, embeddings)\n",
    "    all_predictions.append(predict_doc)\n",
    "\n",
    "# Converting the list of predictions to a DataFrame\n",
    "LLM_df = pd.DataFrame(all_predictions).transpose()"
   ]
  },
  {
   "cell_type": "code",
   "execution_count": 34,
   "id": "4be312f5",
   "metadata": {
    "ExecuteTime": {
     "end_time": "2023-12-19T11:43:07.790429Z",
     "start_time": "2023-12-19T11:41:51.895407Z"
    }
   },
   "outputs": [],
   "source": [
    "from sklearn.metrics.cluster import adjusted_mutual_info_score\n",
    "#from sklearn.metrics.cluster import normalized_mutual_info_score\n",
    "# Number of columns in the DataFrame\n",
    "n_columns = LLM_df.shape[1]\n",
    "\n",
    "# Initializing an empty matrix for adjusted mutual information scores\n",
    "ami_matrix = np.zeros((n_columns, n_columns))\n",
    "\n",
    "# Calculating AMI for each pair of columns\n",
    "for i in range(n_columns):\n",
    "    for j in range(i+1, n_columns):\n",
    "        ami = adjusted_mutual_info_score(LLM_df.iloc[:, i], LLM_df.iloc[:, j])\n",
    "        ami_matrix[i, j] = ami\n",
    "        ami_matrix[j, i] = ami  # Symmetric matrix\n",
    "\n",
    "# Since the diagonal values are always 1 (perfect agreement with themselves), we exclude them\n",
    "np.fill_diagonal(ami_matrix, 0)"
   ]
  },
  {
   "cell_type": "code",
   "execution_count": 35,
   "id": "a5fb7730",
   "metadata": {
    "ExecuteTime": {
     "end_time": "2023-12-19T11:43:09.098000Z",
     "start_time": "2023-12-19T11:43:09.084031Z"
    }
   },
   "outputs": [
    {
     "name": "stdout",
     "output_type": "stream",
     "text": [
      "0.7861726334425685\n",
      "0.092534658668003\n"
     ]
    }
   ],
   "source": [
    "upper_tri = ami_matrix[np.triu_indices(n_columns, k=1)]\n",
    "\n",
    "# Calculate the standard deviation\n",
    "average_ami = np.mean(upper_tri)\n",
    "std_ami = np.std(upper_tri)\n",
    "print(average_ami)\n",
    "print(std_ami)"
   ]
  },
  {
   "cell_type": "code",
   "execution_count": 36,
   "id": "a9e990db",
   "metadata": {
    "ExecuteTime": {
     "end_time": "2023-12-19T11:43:10.563907Z",
     "start_time": "2023-12-19T11:43:10.386259Z"
    }
   },
   "outputs": [
    {
     "data": {
      "image/png": "[encoded data removed]",
      "text/plain": [
       "<Figure size 350x350 with 1 Axes>"
      ]
     },
     "metadata": {},
     "output_type": "display_data"
    }
   ],
   "source": [
    "import matplotlib.pyplot as plt\n",
    "# Set the size of the figure\n",
    "plt.figure(figsize=(3.5, 3.5))\n",
    "\n",
    "# Set the font properties\n",
    "plt.rcParams.update({'font.size': 8, 'font.family': 'sans-serif'})\n",
    "\n",
    "# Plotting the histogram without grid\n",
    "plt.hist(upper_tri, bins=20, color='blue', alpha=0.7)\n",
    "plt.xlabel('AMI Value')\n",
    "plt.ylabel('Frequency')\n",
    "\n",
    "# Removing the top and right axis lines\n",
    "plt.gca().spines['top'].set_visible(False)\n",
    "plt.gca().spines['right'].set_visible(False)\n",
    "\n",
    "# Display the plot\n",
    "plt.savefig('LLM_Stability.pdf', format='pdf', bbox_inches='tight')\n",
    "plt.show()\n"
   ]
  },
  {
   "cell_type": "code",
   "execution_count": 37,
   "id": "e649e79f",
   "metadata": {
    "ExecuteTime": {
     "end_time": "2023-11-30T11:17:24.364910Z",
     "start_time": "2023-11-30T11:17:24.350946Z"
    }
   },
   "outputs": [
    {
     "name": "stdout",
     "output_type": "stream",
     "text": [
      "0.7708333088512901\n",
      "0.0938451031742021\n"
     ]
    }
   ],
   "source": [
    "upper_tri = ami_matrix[np.triu_indices(n_columns, k=1)]\n",
    "\n",
    "# Calculate the standard deviation\n",
    "average_ami = np.mean(upper_tri)\n",
    "std_ami = np.std(upper_tri)\n",
    "print(average_ami)\n",
    "print(std_ami)\n"
   ]
  },
  {
   "cell_type": "code",
   "execution_count": 49,
   "id": "b3f633d3",
   "metadata": {
    "ExecuteTime": {
     "end_time": "2023-11-30T12:29:26.896876Z",
     "start_time": "2023-11-30T12:29:26.774652Z"
    }
   },
   "outputs": [
    {
     "data": {
      "image/png": "[encoded data removed]",
      "text/plain": [
       "<Figure size 640x480 with 1 Axes>"
      ]
     },
     "metadata": {},
     "output_type": "display_data"
    }
   ],
   "source": [
    "import matplotlib.pyplot as plt\n",
    "# Plotting the histogram\n",
    "plt.hist(upper_tri, bins=20, color='blue', alpha=0.7)\n",
    "plt.title('AMI Values LLM')\n",
    "plt.xlabel('AMI Value')\n",
    "plt.ylabel('Frequency')\n",
    "#plt.grid(True)\n",
    "plt.show()"
   ]
  },
  {
   "cell_type": "code",
   "execution_count": 38,
   "id": "e62292a6",
   "metadata": {
    "ExecuteTime": {
     "end_time": "2023-11-30T11:22:08.387009Z",
     "start_time": "2023-11-30T11:22:08.370049Z"
    }
   },
   "outputs": [
    {
     "data": {
      "text/plain": [
       "array([0.98369957, 0.7633425 , 0.75568547, 0.75421307, 0.98592564,\n",
       "       0.9890458 , 0.77716547, 0.67073981, 0.75575153, 0.79904859,\n",
       "       0.76512893, 0.79783933, 0.67347635, 0.79858805, 0.79858622,\n",
       "       0.75460524, 0.77836032, 0.79837309, 0.67308262, 0.76296279,\n",
       "       0.75488991, 0.75336275, 0.97667679, 0.97861487, 0.77983936,\n",
       "       0.67010613, 0.75508961, 0.80270658, 0.76453751, 0.80018442,\n",
       "       0.67280018, 0.80212755, 0.80253708, 0.75712036, 0.78118006,\n",
       "       0.80249086, 0.67222479, 0.63233364, 0.63250334, 0.76381451,\n",
       "       0.76414561, 0.65131872, 0.63868227, 0.63105912, 0.74026957,\n",
       "       0.99034345, 0.73512662, 0.64268572, 0.73439644, 0.73606511,\n",
       "       0.65954843, 0.65051771, 0.74034809, 0.64376515, 0.96216826,\n",
       "       0.75527131, 0.75606251, 0.77658338, 0.66861956, 0.98293811,\n",
       "       0.7665465 , 0.63223968, 0.76476219, 0.67209104, 0.76372322,\n",
       "       0.76415054, 0.7351411 , 0.77692515, 0.76589048, 0.67276029,\n",
       "       0.75387931, 0.75471148, 0.77533498, 0.67002328, 0.96501108,\n",
       "       0.76606926, 0.63275795, 0.76452209, 0.67314279, 0.76345308,\n",
       "       0.76386031, 0.73446269, 0.77583613, 0.76551861, 0.67374338,\n",
       "       0.99406732, 0.77853364, 0.67009265, 0.75554134, 0.79843078,\n",
       "       0.76536278, 0.79686535, 0.67282678, 0.79778364, 0.79800847,\n",
       "       0.7551699 , 0.77975006, 0.79770776, 0.67244262, 0.77769876,\n",
       "       0.67010732, 0.75624572, 0.79973803, 0.76569194, 0.79847543,\n",
       "       0.67286562, 0.79921418, 0.79923875, 0.75510692, 0.77887666,\n",
       "       0.798938  , 0.6724696 , 0.69172134, 0.77707756, 0.79052525,\n",
       "       0.65115073, 0.78477705, 0.69707524, 0.78757523, 0.78871004,\n",
       "       0.75906546, 0.98974857, 0.7908245 , 0.69707193, 0.6676088 ,\n",
       "       0.78589136, 0.63751929, 0.78676602, 0.96837553, 0.7847777 ,\n",
       "       0.78536809, 0.65199113, 0.69373977, 0.78585749, 0.9666783 ,\n",
       "       0.76661948, 0.63114583, 0.76468093, 0.67110439, 0.7638543 ,\n",
       "       0.76414458, 0.73483177, 0.7774367 , 0.76595587, 0.67170358,\n",
       "       0.73909558, 0.96655426, 0.78916509, 0.97517831, 0.97795035,\n",
       "       0.77265248, 0.79234623, 0.99405221, 0.78673579, 0.73390837,\n",
       "       0.64160545, 0.73325263, 0.73479601, 0.65942539, 0.65044602,\n",
       "       0.73909557, 0.64275226, 0.78074447, 0.98675564, 0.97901761,\n",
       "       0.76689216, 0.78650189, 0.96523852, 0.77841908, 0.77933413,\n",
       "       0.78121724, 0.65481815, 0.69926589, 0.78801776, 0.98971137,\n",
       "       0.99025047, 0.76973125, 0.78916303, 0.97340516, 0.77697298,\n",
       "       0.77170066, 0.7902998 , 0.98121569, 0.77886411, 0.76042508,\n",
       "       0.77351564, 0.65452281, 0.79265805, 0.69925227, 0.7855495 ])"
      ]
     },
     "execution_count": 38,
     "metadata": {},
     "output_type": "execute_result"
    }
   ],
   "source": [
    "upper_tri"
   ]
  },
  {
   "cell_type": "code",
   "execution_count": 47,
   "id": "222ac981",
   "metadata": {
    "ExecuteTime": {
     "end_time": "2023-03-07T03:52:45.850257Z",
     "start_time": "2023-03-07T03:52:45.827257Z"
    }
   },
   "outputs": [
    {
     "data": {
      "text/plain": [
       "array([0.00172996, 0.00195426, 0.00190128, 0.00201813, 0.00176372,\n",
       "       0.00232332, 0.00191329, 0.0021705 , 0.00146488, 0.00169833])"
      ]
     },
     "execution_count": 47,
     "metadata": {},
     "output_type": "execute_result"
    }
   ],
   "source": [
    "std_array = np.array(gmm_Transformer.covariances_)\n",
    "np.mean(std_array,axis = 1)\n",
    "#scaled_array = np.mean(np.array((std_array-np.min(std_array))/(np.max(std_array)-np.min(std_array))), axis = 1)\n",
    "#scaled_array"
   ]
  },
  {
   "cell_type": "markdown",
   "id": "522a9abf",
   "metadata": {},
   "source": [
    "# Create Random Model"
   ]
  },
  {
   "cell_type": "code",
   "execution_count": 8,
   "id": "09f575e5",
   "metadata": {
    "ExecuteTime": {
     "end_time": "2023-06-07T07:19:23.036953Z",
     "start_time": "2023-06-07T07:19:22.987465Z"
    }
   },
   "outputs": [],
   "source": [
    "from random import randrange, seed\n",
    "seed(0)\n",
    "rand_col = []\n",
    "for i in range(len(df)):\n",
    "    rand_col.append(randrange(10))\n",
    "df['random_clusters'] = rand_col"
   ]
  },
  {
   "cell_type": "code",
   "execution_count": 11,
   "id": "80402bac",
   "metadata": {
    "ExecuteTime": {
     "end_time": "2023-06-07T07:20:19.417877Z",
     "start_time": "2023-06-07T07:20:18.409269Z"
    }
   },
   "outputs": [],
   "source": [
    "top_words_rand = []\n",
    "for i in np.unique(df['random_clusters']):\n",
    "        small_df = df[df[\"random_clusters\"] == i]\n",
    "        top_words_rand.append(get_most_freq_words(small_df[\"Bios\"], 10))"
   ]
  },
  {
   "cell_type": "code",
   "execution_count": 16,
   "id": "a1750bdf",
   "metadata": {
    "ExecuteTime": {
     "end_time": "2023-06-07T07:24:12.127332Z",
     "start_time": "2023-06-07T07:24:00.764004Z"
    }
   },
   "outputs": [
    {
     "name": "stderr",
     "output_type": "stream",
     "text": [
      "C:\\Users\\justi\\anaconda3\\lib\\site-packages\\gensim\\topic_coherence\\direct_confirmation_measure.py:204: RuntimeWarning: divide by zero encountered in double_scalars\n",
      "  m_lr_i = np.log(numerator / denominator)\n",
      "C:\\Users\\justi\\anaconda3\\lib\\site-packages\\gensim\\topic_coherence\\indirect_confirmation_measure.py:323: RuntimeWarning: invalid value encountered in double_scalars\n",
      "  return cv1.T.dot(cv2)[0, 0] / (_magnitude(cv1) * _magnitude(cv2))\n"
     ]
    },
    {
     "data": {
      "text/plain": [
       "[nan, nan, nan, nan, nan, nan, nan, nan, nan, nan]"
      ]
     },
     "execution_count": 16,
     "metadata": {},
     "output_type": "execute_result"
    }
   ],
   "source": [
    "transformer_coherence =   CoherenceModel(topics=top_words_rand, texts=tokenized_doc, dictionary=dictionary, coherence='c_v')\n",
    "transformer_coherence.get_coherence_per_topic()"
   ]
  },
  {
   "cell_type": "markdown",
   "id": "9d3748b5",
   "metadata": {},
   "source": [
    "# Get Top Words - Transformer"
   ]
  },
  {
   "cell_type": "code",
   "execution_count": 9,
   "id": "2f5da60a",
   "metadata": {
    "ExecuteTime": {
     "end_time": "2023-06-07T07:19:27.221983Z",
     "start_time": "2023-06-07T07:19:27.197049Z"
    }
   },
   "outputs": [],
   "source": [
    "def get_most_freq_words(documents, n_top =10):\n",
    "    corpus1 = []\n",
    "    for d in documents:\n",
    "        corpus1.append(str(d))\n",
    "    vec = CountVectorizer(stop_words='english').fit(corpus1)\n",
    "    bag_of_words = vec.transform(corpus1)\n",
    "    sum_words = bag_of_words.sum(axis=0) \n",
    "    words_freq = [(word, sum_words[0, idx]) for word, idx in     vec.vocabulary_.items()]\n",
    "    words_freq =sorted(words_freq, key = lambda x: x[1], reverse=True)\n",
    "    words_freq1 = [x[0] for x in words_freq]\n",
    "    return words_freq1[0:n_top]"
   ]
  },
  {
   "cell_type": "code",
   "execution_count": 10,
   "id": "924a6039",
   "metadata": {
    "ExecuteTime": {
     "end_time": "2023-06-07T07:19:28.430354Z",
     "start_time": "2023-06-07T07:19:28.419415Z"
    }
   },
   "outputs": [],
   "source": [
    "from gensim.models.coherencemodel import CoherenceModel"
   ]
  },
  {
   "cell_type": "code",
   "execution_count": 22,
   "id": "20b6e12d",
   "metadata": {
    "ExecuteTime": {
     "end_time": "2023-03-03T12:56:27.181106Z",
     "start_time": "2023-03-03T12:56:26.183667Z"
    }
   },
   "outputs": [],
   "source": [
    "top_words_trans10 = []\n",
    "for i in np.unique(df['Transformer_Class_10']):\n",
    "        small_df = df[df[\"Transformer_Class_10\"] == i]\n",
    "        top_words_trans10.append(get_most_freq_words(small_df[\"Bios\"], 10))"
   ]
  },
  {
   "cell_type": "code",
   "execution_count": 24,
   "id": "9b2eec13",
   "metadata": {
    "ExecuteTime": {
     "end_time": "2023-03-03T12:57:45.558264Z",
     "start_time": "2023-03-03T12:57:45.161401Z"
    }
   },
   "outputs": [],
   "source": [
    "transformer_coherence =   CoherenceModel(topics=top_words_trans10, texts=tokenized_doc, dictionary=dictionary, coherence='u_mass')"
   ]
  },
  {
   "cell_type": "code",
   "execution_count": 26,
   "id": "8550363e",
   "metadata": {
    "ExecuteTime": {
     "end_time": "2023-03-03T12:58:06.342617Z",
     "start_time": "2023-03-03T12:58:06.311741Z"
    }
   },
   "outputs": [
    {
     "data": {
      "text/plain": [
       "[-2.5899815130777104,\n",
       " -3.1978322647555655,\n",
       " -2.7699274478904257,\n",
       " -4.140993779044944,\n",
       " -2.853581692570847,\n",
       " -7.729550629139106,\n",
       " -8.06059534992601,\n",
       " -7.64715115512365,\n",
       " -1.8726739393481286,\n",
       " -2.619508995335336]"
      ]
     },
     "execution_count": 26,
     "metadata": {},
     "output_type": "execute_result"
    }
   ],
   "source": [
    "transformer_coherence.get_coherence_per_topic()"
   ]
  },
  {
   "cell_type": "code",
   "execution_count": null,
   "id": "01560f15",
   "metadata": {
    "ExecuteTime": {
     "start_time": "2023-03-03T12:39:26.022Z"
    }
   },
   "outputs": [],
   "source": [
    "#Gets the 10 most frequent words for each cluster\n",
    "top_words_trans10 = []\n",
    "for i in np.unique(df['Transformer_Class_10']):\n",
    "        small_df = df[df[\"Transformer_Class_10\"] == i]\n",
    "        top_words_trans10.append(get_most_freq_words(small_df[\"Bios\"], 10))\n",
    "transformer_coherence =   CoherenceModel(topics=top_words_trans10, texts=tokenized_doc, dictionary=dictionary, coherence='c_v')\n",
    "all_coherence = transformer_coherence.get_coherence_per_topic()\n",
    "print(all_coherence)"
   ]
  },
  {
   "cell_type": "code",
   "execution_count": 22,
   "id": "01911141",
   "metadata": {
    "ExecuteTime": {
     "end_time": "2023-02-20T09:58:55.943355Z",
     "start_time": "2023-02-20T09:58:55.928394Z"
    }
   },
   "outputs": [],
   "source": [
    "#Inserts the emojis back into the top 10 words\n",
    "top_all = []\n",
    "for i in top_words_trans10:\n",
    "    top_topic = []\n",
    "    for j in i:\n",
    "        emoj_word = emojize(':'+j+':').replace(':','')\n",
    "        if is_emoji(emoj_word):\n",
    "            top_topic.append(emoj_word)\n",
    "        else:\n",
    "              top_topic.append(emojize(':' + emoj_word.replace(\"_\", \" \" ).title().replace(' ', \"_\") + ':').replace(':',''))\n",
    "    top_all.append(top_topic)"
   ]
  },
  {
   "cell_type": "markdown",
   "id": "4f587320",
   "metadata": {},
   "source": [
    "# Get Top Words - Doc2vec"
   ]
  },
  {
   "cell_type": "code",
   "execution_count": 27,
   "id": "79fb1f15",
   "metadata": {
    "ExecuteTime": {
     "end_time": "2023-03-03T12:59:43.605324Z",
     "start_time": "2023-03-03T12:59:42.274914Z"
    }
   },
   "outputs": [
    {
     "name": "stdout",
     "output_type": "stream",
     "text": [
      "[-2.6709524607048336, -3.9462157729929705, -2.8815027187135014, -2.671147579968458, -2.797360331280367, -3.2919318193266096, -2.288875138361903, -2.6999991856447236, -2.7983851062319545, -2.6131944166739363]\n"
     ]
    }
   ],
   "source": [
    "top_words_doc10 = []\n",
    "for i in np.unique(df['Docs2vec_Class_10']):\n",
    "        small_df = df[df[\"Docs2vec_Class_10\"] == i]\n",
    "        top_words_doc10.append(get_most_freq_words(small_df[\"Bios\"], 10))\n",
    "Doc_coherence =   CoherenceModel(topics=top_words_doc10, texts=tokenized_doc, dictionary=dictionary, coherence='u_mass')\n",
    "Doc_all_coherence = Doc_coherence.get_coherence_per_topic()\n",
    "print(Doc_all_coherence)\n",
    "        \n",
    "top_all_docs = []\n",
    "for i in top_words_doc10:\n",
    "    top_topic = []\n",
    "    for j in i:\n",
    "        emoj_word = emojize(':'+j+':').replace(':','')\n",
    "        if is_emoji(emoj_word):\n",
    "            top_topic.append(emoj_word)\n",
    "        else:\n",
    "              top_topic.append(emojize(':' + emoj_word.replace(\"_\", \" \" ).title().replace(' ', \"_\") + ':').replace(':',''))\n",
    "    top_all_docs.append(top_topic)"
   ]
  },
  {
   "cell_type": "markdown",
   "id": "fb56a89a",
   "metadata": {},
   "source": [
    "# Get Top Words LDA"
   ]
  },
  {
   "cell_type": "code",
   "execution_count": 29,
   "id": "5f5933b0",
   "metadata": {
    "ExecuteTime": {
     "end_time": "2023-03-03T13:00:09.086426Z",
     "start_time": "2023-03-03T13:00:08.321357Z"
    }
   },
   "outputs": [
    {
     "name": "stdout",
     "output_type": "stream",
     "text": [
      "[-3.503113265878975, -2.08259720338761, -3.986339545668767, -2.605293835680971, -3.2654362041288576, -3.5265750149035435, -3.6373761744608135, -8.29009492160513, -8.83448547182182, -4.387428199000391]\n",
      "[-3.680900495591216, -2.45204047684286, -4.70347330142563, -3.770568537837743, -3.4714879913600165, -4.812692245037309, -5.262953391193617, -8.753879773707482, -9.132827092787085, -4.111566938941183]\n"
     ]
    }
   ],
   "source": [
    "#Get the top words for each topic\n",
    "topic_words_lda = []\n",
    "num_topics = 10\n",
    "for i in range(num_topics):\n",
    "    tt = goodLdaModel.get_topic_terms(i,10)\n",
    "    topic_words_lda.append([dictionary[pair[0]] for pair in tt])\n",
    "LDA_coherence =   CoherenceModel(topics=topic_words_lda, texts=tokenized_doc, dictionary=dictionary, coherence='u_mass')\n",
    "LDA_all_coherence = LDA_coherence.get_coherence_per_topic()\n",
    "print(LDA_all_coherence)\n",
    "\n",
    "\n",
    "LDA_test = CoherenceModel(model=goodLdaModel, texts=tokenized_doc, dictionary=dictionary, coherence='u_mass')\n",
    "print(LDA_test.get_coherence_per_topic())"
   ]
  },
  {
   "cell_type": "code",
   "execution_count": 25,
   "id": "24bcade6",
   "metadata": {
    "ExecuteTime": {
     "end_time": "2023-02-20T09:58:59.662912Z",
     "start_time": "2023-02-20T09:58:59.648951Z"
    }
   },
   "outputs": [],
   "source": [
    "#reinsert the emojis that had been taken out\n",
    "top_all_lda = []\n",
    "for i in topic_words_lda:\n",
    "    top_topic = []\n",
    "    for j in i:\n",
    "        emoj_word = emojize(':'+j+':').replace(':','')\n",
    "        if is_emoji(emoj_word):\n",
    "            top_topic.append(emoj_word)\n",
    "        else:\n",
    "              top_topic.append(emojize(':' + emoj_word.replace(\"_\", \" \" ).title().replace(' ', \"_\") + ':').replace(':',''))\n",
    "    top_all_lda.append(top_topic)"
   ]
  },
  {
   "cell_type": "code",
   "execution_count": 26,
   "id": "7b5fdf78",
   "metadata": {
    "ExecuteTime": {
     "end_time": "2023-02-20T09:59:00.573477Z",
     "start_time": "2023-02-20T09:59:00.559516Z"
    }
   },
   "outputs": [],
   "source": [
    "def get_sample_cluster(df, model_name, model_number, n_sample, random_state):\n",
    "    small_df = df[df[model_name] == model_number]\n",
    "    return small_df.sample(n=n_sample, random_state = random_state)\n",
    "    "
   ]
  },
  {
   "cell_type": "markdown",
   "id": "03313c07",
   "metadata": {
    "ExecuteTime": {
     "end_time": "2022-11-15T10:21:07.841124Z",
     "start_time": "2022-11-15T10:21:07.827193Z"
    }
   },
   "source": [
    "# Sample Bios 1"
   ]
  },
  {
   "cell_type": "code",
   "execution_count": 27,
   "id": "de411c26",
   "metadata": {
    "ExecuteTime": {
     "end_time": "2023-02-20T09:59:01.499003Z",
     "start_time": "2023-02-20T09:59:01.468086Z"
    }
   },
   "outputs": [],
   "source": [
    "random.seed(0)\n",
    "unique_vals = np.unique(df[\"random_clusters\"])\n",
    "rand_10 = pd.DataFrame()\n",
    "for i in unique_vals:\n",
    "   rand_10[str(i)] =  get_sample_cluster(df, \"random_clusters\",i, 20, random_state= 1).Bio_emoji.values\n",
    "    "
   ]
  },
  {
   "cell_type": "code",
   "execution_count": 28,
   "id": "5907c3fa",
   "metadata": {
    "ExecuteTime": {
     "end_time": "2023-02-20T09:59:02.428663Z",
     "start_time": "2023-02-20T09:59:02.415823Z"
    }
   },
   "outputs": [],
   "source": [
    "rand_10.to_csv('Random_Sample_1.csv', index= False)"
   ]
  },
  {
   "cell_type": "code",
   "execution_count": 29,
   "id": "d3891489",
   "metadata": {
    "ExecuteTime": {
     "end_time": "2023-02-20T09:59:03.370972Z",
     "start_time": "2023-02-20T09:59:03.340770Z"
    }
   },
   "outputs": [],
   "source": [
    "random.seed(0)\n",
    "unique_vals = np.unique(df[\"Docs2vec_Class_10\"])\n",
    "Doc_10 = pd.DataFrame()\n",
    "for i in unique_vals:\n",
    "   Doc_10[str(i)] =  get_sample_cluster(df, \"Docs2vec_Class_10\",i, 20, random_state= 1).Bio_emoji.values\n",
    "    "
   ]
  },
  {
   "cell_type": "code",
   "execution_count": 30,
   "id": "d74ee19f",
   "metadata": {
    "ExecuteTime": {
     "end_time": "2023-02-20T09:59:04.239307Z",
     "start_time": "2023-02-20T09:59:04.225070Z"
    }
   },
   "outputs": [],
   "source": [
    "Doc_10.to_csv('Doc_Sample_1.csv', index= False)"
   ]
  },
  {
   "cell_type": "code",
   "execution_count": 31,
   "id": "a42411a0",
   "metadata": {
    "ExecuteTime": {
     "end_time": "2023-02-20T09:59:05.168955Z",
     "start_time": "2023-02-20T09:59:05.107112Z"
    }
   },
   "outputs": [],
   "source": [
    "random.seed(0)\n",
    "unique_vals = np.unique(df[\"LDA_Class_10\"])\n",
    "LDA_10 = pd.DataFrame()\n",
    "for i in unique_vals:\n",
    "   LDA_10[str(i)] =  get_sample_cluster(df, \"LDA_Class_10\",i, 20, random_state= 1).Bio_emoji.values\n",
    "    "
   ]
  },
  {
   "cell_type": "code",
   "execution_count": 32,
   "id": "882b70e3",
   "metadata": {
    "ExecuteTime": {
     "end_time": "2023-02-20T09:59:06.078157Z",
     "start_time": "2023-02-20T09:59:06.064790Z"
    }
   },
   "outputs": [],
   "source": [
    "LDA_10.to_csv('LDA_Sample_1.csv', index= False)"
   ]
  },
  {
   "cell_type": "code",
   "execution_count": 33,
   "id": "9ce50cc3",
   "metadata": {
    "ExecuteTime": {
     "end_time": "2023-02-20T09:59:06.974326Z",
     "start_time": "2023-02-20T09:59:06.946400Z"
    }
   },
   "outputs": [],
   "source": [
    "random.seed(0)\n",
    "unique_vals = np.unique(df[\"Transformer_Class_10\"])\n",
    "trans_10 = pd.DataFrame()\n",
    "for i in unique_vals:\n",
    "   trans_10[str(i)] =  get_sample_cluster(df, \"Transformer_Class_10\",i, 20, random_state= 1).Bio_emoji.values"
   ]
  },
  {
   "cell_type": "code",
   "execution_count": 34,
   "id": "0a577c1b",
   "metadata": {
    "ExecuteTime": {
     "end_time": "2023-02-20T09:59:07.907230Z",
     "start_time": "2023-02-20T09:59:07.892558Z"
    }
   },
   "outputs": [],
   "source": [
    "trans_10.to_csv('Transformer_Sample_1.csv', index= False)"
   ]
  },
  {
   "cell_type": "code",
   "execution_count": null,
   "id": "f7371208",
   "metadata": {},
   "outputs": [],
   "source": []
  },
  {
   "cell_type": "markdown",
   "id": "4c6a31e9",
   "metadata": {
    "ExecuteTime": {
     "end_time": "2022-11-15T10:21:07.841124Z",
     "start_time": "2022-11-15T10:21:07.827193Z"
    }
   },
   "source": [
    "# Sample Bios 2"
   ]
  },
  {
   "cell_type": "code",
   "execution_count": 35,
   "id": "e07d7ac1",
   "metadata": {
    "ExecuteTime": {
     "end_time": "2023-02-20T09:59:08.820781Z",
     "start_time": "2023-02-20T09:59:08.774910Z"
    }
   },
   "outputs": [],
   "source": [
    "random.seed(1)\n",
    "unique_vals = np.unique(df[\"random_clusters\"])\n",
    "rand_10 = pd.DataFrame()\n",
    "for i in unique_vals:\n",
    "   rand_10[str(i)] =  get_sample_cluster(df, \"random_clusters\",i, 20, random_state= 1).Bio_emoji.values\n",
    "    "
   ]
  },
  {
   "cell_type": "code",
   "execution_count": 36,
   "id": "0b1a91d0",
   "metadata": {
    "ExecuteTime": {
     "end_time": "2023-02-20T09:59:09.726715Z",
     "start_time": "2023-02-20T09:59:09.712492Z"
    }
   },
   "outputs": [],
   "source": [
    "rand_10.to_csv('Random_Sample_2.csv', index= False)"
   ]
  },
  {
   "cell_type": "code",
   "execution_count": 37,
   "id": "c76b23c8",
   "metadata": {
    "ExecuteTime": {
     "end_time": "2023-02-20T09:59:10.627233Z",
     "start_time": "2023-02-20T09:59:10.600054Z"
    }
   },
   "outputs": [],
   "source": [
    "random.seed(1)\n",
    "unique_vals = np.unique(df[\"Docs2vec_Class_10\"])\n",
    "Doc_10 = pd.DataFrame()\n",
    "for i in unique_vals:\n",
    "   Doc_10[str(i)] =  get_sample_cluster(df, \"Docs2vec_Class_10\",i, 20, random_state= 1).Bio_emoji.values\n",
    "    "
   ]
  },
  {
   "cell_type": "code",
   "execution_count": 38,
   "id": "ed06edec",
   "metadata": {
    "ExecuteTime": {
     "end_time": "2023-02-20T09:59:11.567520Z",
     "start_time": "2023-02-20T09:59:11.552559Z"
    }
   },
   "outputs": [],
   "source": [
    "Doc_10.to_csv('Doc_Sample_2.csv', index= False)"
   ]
  },
  {
   "cell_type": "code",
   "execution_count": 39,
   "id": "9b598570",
   "metadata": {
    "ExecuteTime": {
     "end_time": "2023-02-20T09:59:12.467835Z",
     "start_time": "2023-02-20T09:59:12.436779Z"
    }
   },
   "outputs": [],
   "source": [
    "random.seed(1)\n",
    "unique_vals = np.unique(df[\"LDA_Class_10\"])\n",
    "LDA_10 = pd.DataFrame()\n",
    "for i in unique_vals:\n",
    "   LDA_10[str(i)] =  get_sample_cluster(df, \"LDA_Class_10\",i, 20, random_state= 1).Bio_emoji.values\n",
    "    "
   ]
  },
  {
   "cell_type": "code",
   "execution_count": 40,
   "id": "1bc89d08",
   "metadata": {
    "ExecuteTime": {
     "end_time": "2023-02-20T09:59:13.428786Z",
     "start_time": "2023-02-20T09:59:13.415046Z"
    }
   },
   "outputs": [],
   "source": [
    "LDA_10.to_csv('LDA_Sample_2.csv', index= False)"
   ]
  },
  {
   "cell_type": "code",
   "execution_count": 41,
   "id": "e78ebb0e",
   "metadata": {
    "ExecuteTime": {
     "end_time": "2023-02-20T09:59:14.336779Z",
     "start_time": "2023-02-20T09:59:14.306859Z"
    }
   },
   "outputs": [],
   "source": [
    "random.seed(1)\n",
    "unique_vals = np.unique(df[\"Transformer_Class_10\"])\n",
    "trans_10 = pd.DataFrame()\n",
    "for i in unique_vals:\n",
    "   trans_10[str(i)] =  get_sample_cluster(df, \"Transformer_Class_10\",i, 20, random_state= 1).Bio_emoji.values"
   ]
  },
  {
   "cell_type": "code",
   "execution_count": 42,
   "id": "952a5f9b",
   "metadata": {
    "ExecuteTime": {
     "end_time": "2023-02-20T09:59:15.265221Z",
     "start_time": "2023-02-20T09:59:15.252034Z"
    }
   },
   "outputs": [],
   "source": [
    "trans_10.to_csv('Transformer_Sample_2.csv', index= False)"
   ]
  },
  {
   "cell_type": "markdown",
   "id": "b4d596ff",
   "metadata": {},
   "source": [
    "# Sample Bios 3"
   ]
  },
  {
   "cell_type": "code",
   "execution_count": 43,
   "id": "bf74e9b1",
   "metadata": {
    "ExecuteTime": {
     "end_time": "2023-02-20T09:59:16.173646Z",
     "start_time": "2023-02-20T09:59:16.143315Z"
    }
   },
   "outputs": [],
   "source": [
    "random.seed(2)\n",
    "unique_vals = np.unique(df[\"random_clusters\"])\n",
    "rand_10 = pd.DataFrame()\n",
    "for i in unique_vals:\n",
    "   rand_10[str(i)] =  get_sample_cluster(df, \"random_clusters\",i, 20, random_state= 2).Bio_emoji.values\n",
    "    "
   ]
  },
  {
   "cell_type": "code",
   "execution_count": 44,
   "id": "86c5004c",
   "metadata": {
    "ExecuteTime": {
     "end_time": "2023-02-20T09:59:17.105993Z",
     "start_time": "2023-02-20T09:59:17.092372Z"
    }
   },
   "outputs": [],
   "source": [
    "rand_10.to_csv('Random_Sample_3.csv', index= False)"
   ]
  },
  {
   "cell_type": "code",
   "execution_count": 45,
   "id": "543ffc66",
   "metadata": {
    "ExecuteTime": {
     "end_time": "2023-02-20T09:59:17.999855Z",
     "start_time": "2023-02-20T09:59:17.969744Z"
    }
   },
   "outputs": [],
   "source": [
    "random.seed(2)\n",
    "unique_vals = np.unique(df[\"Docs2vec_Class_10\"])\n",
    "Doc_10 = pd.DataFrame()\n",
    "for i in unique_vals:\n",
    "   Doc_10[str(i)] =  get_sample_cluster(df, \"Docs2vec_Class_10\",i, 20, random_state= 2).Bio_emoji.values\n",
    "    "
   ]
  },
  {
   "cell_type": "code",
   "execution_count": 46,
   "id": "fb8e3330",
   "metadata": {
    "ExecuteTime": {
     "end_time": "2023-02-20T09:59:18.932884Z",
     "start_time": "2023-02-20T09:59:18.917852Z"
    }
   },
   "outputs": [],
   "source": [
    "Doc_10.to_csv('Doc_Sample_3.csv', index= False)"
   ]
  },
  {
   "cell_type": "code",
   "execution_count": 47,
   "id": "b788a6bc",
   "metadata": {
    "ExecuteTime": {
     "end_time": "2023-02-20T09:59:19.817075Z",
     "start_time": "2023-02-20T09:59:19.787010Z"
    }
   },
   "outputs": [],
   "source": [
    "random.seed(2)\n",
    "unique_vals = np.unique(df[\"LDA_Class_10\"])\n",
    "LDA_10 = pd.DataFrame()\n",
    "for i in unique_vals:\n",
    "   LDA_10[str(i)] =  get_sample_cluster(df, \"LDA_Class_10\",i, 20, random_state= 2).Bio_emoji.values\n",
    "    "
   ]
  },
  {
   "cell_type": "code",
   "execution_count": 48,
   "id": "f1537a52",
   "metadata": {
    "ExecuteTime": {
     "end_time": "2023-02-20T09:59:20.728557Z",
     "start_time": "2023-02-20T09:59:20.713809Z"
    }
   },
   "outputs": [],
   "source": [
    "LDA_10.to_csv('LDA_Sample_3.csv', index= False)"
   ]
  },
  {
   "cell_type": "code",
   "execution_count": 49,
   "id": "ab0f343d",
   "metadata": {
    "ExecuteTime": {
     "end_time": "2023-02-20T09:59:21.621534Z",
     "start_time": "2023-02-20T09:59:21.592556Z"
    }
   },
   "outputs": [],
   "source": [
    "random.seed(2)\n",
    "unique_vals = np.unique(df[\"Transformer_Class_10\"])\n",
    "trans_10 = pd.DataFrame()\n",
    "for i in unique_vals:\n",
    "   trans_10[str(i)] =  get_sample_cluster(df, \"Transformer_Class_10\",i, 20, random_state= 2).Bio_emoji.values"
   ]
  },
  {
   "cell_type": "code",
   "execution_count": 50,
   "id": "cba111c3",
   "metadata": {
    "ExecuteTime": {
     "end_time": "2023-02-20T09:59:22.552013Z",
     "start_time": "2023-02-20T09:59:22.538049Z"
    }
   },
   "outputs": [],
   "source": [
    "trans_10.to_csv('Transformer_Sample_3.csv', index= False)"
   ]
  },
  {
   "cell_type": "markdown",
   "id": "f738481f",
   "metadata": {},
   "source": [
    "# Sample Bios 4"
   ]
  },
  {
   "cell_type": "code",
   "execution_count": 51,
   "id": "53d6b343",
   "metadata": {
    "ExecuteTime": {
     "end_time": "2023-02-20T09:59:23.462245Z",
     "start_time": "2023-02-20T09:59:23.431297Z"
    }
   },
   "outputs": [],
   "source": [
    "random.seed(3)\n",
    "unique_vals = np.unique(df[\"random_clusters\"])\n",
    "rand_10 = pd.DataFrame()\n",
    "for i in unique_vals:\n",
    "   rand_10[str(i)] =  get_sample_cluster(df, \"random_clusters\",i, 20, random_state= 3).Bio_emoji.values\n",
    "    "
   ]
  },
  {
   "cell_type": "code",
   "execution_count": 52,
   "id": "00bc3463",
   "metadata": {
    "ExecuteTime": {
     "end_time": "2023-02-20T09:59:24.348587Z",
     "start_time": "2023-02-20T09:59:24.335474Z"
    }
   },
   "outputs": [],
   "source": [
    "rand_10.to_csv('Random_Sample_4.csv', index= False)"
   ]
  },
  {
   "cell_type": "code",
   "execution_count": 53,
   "id": "b38af891",
   "metadata": {
    "ExecuteTime": {
     "end_time": "2023-02-20T09:59:25.300407Z",
     "start_time": "2023-02-20T09:59:25.270349Z"
    }
   },
   "outputs": [],
   "source": [
    "random.seed(3)\n",
    "unique_vals = np.unique(df[\"Docs2vec_Class_10\"])\n",
    "Doc_10 = pd.DataFrame()\n",
    "for i in unique_vals:\n",
    "   Doc_10[str(i)] =  get_sample_cluster(df, \"Docs2vec_Class_10\",i, 20, random_state= 3).Bio_emoji.values\n",
    "    "
   ]
  },
  {
   "cell_type": "code",
   "execution_count": 54,
   "id": "a247de87",
   "metadata": {
    "ExecuteTime": {
     "end_time": "2023-02-20T09:59:26.182197Z",
     "start_time": "2023-02-20T09:59:26.168194Z"
    }
   },
   "outputs": [],
   "source": [
    "Doc_10.to_csv('Doc_Sample_4.csv', index= False)"
   ]
  },
  {
   "cell_type": "code",
   "execution_count": 55,
   "id": "f25ddbdb",
   "metadata": {
    "ExecuteTime": {
     "end_time": "2023-02-20T09:59:27.124204Z",
     "start_time": "2023-02-20T09:59:27.093996Z"
    }
   },
   "outputs": [],
   "source": [
    "random.seed(3)\n",
    "unique_vals = np.unique(df[\"LDA_Class_10\"])\n",
    "LDA_10 = pd.DataFrame()\n",
    "for i in unique_vals:\n",
    "   LDA_10[str(i)] =  get_sample_cluster(df, \"LDA_Class_10\",i, 20, random_state= 3).Bio_emoji.values\n",
    "    "
   ]
  },
  {
   "cell_type": "code",
   "execution_count": 56,
   "id": "53c0940f",
   "metadata": {
    "ExecuteTime": {
     "end_time": "2023-02-20T09:59:28.037181Z",
     "start_time": "2023-02-20T09:59:28.022451Z"
    }
   },
   "outputs": [],
   "source": [
    "LDA_10.to_csv('LDA_Sample_4.csv', index= False)"
   ]
  },
  {
   "cell_type": "code",
   "execution_count": 57,
   "id": "64d5d4c8",
   "metadata": {
    "ExecuteTime": {
     "end_time": "2023-02-20T09:59:29.015059Z",
     "start_time": "2023-02-20T09:59:28.970975Z"
    }
   },
   "outputs": [],
   "source": [
    "random.seed(3)\n",
    "unique_vals = np.unique(df[\"Transformer_Class_10\"])\n",
    "trans_10 = pd.DataFrame()\n",
    "for i in unique_vals:\n",
    "   trans_10[str(i)] =  get_sample_cluster(df, \"Transformer_Class_10\",i, 20, random_state= 3).Bio_emoji.values"
   ]
  },
  {
   "cell_type": "code",
   "execution_count": 58,
   "id": "c5c93679",
   "metadata": {
    "ExecuteTime": {
     "end_time": "2023-02-20T09:59:29.920221Z",
     "start_time": "2023-02-20T09:59:29.906259Z"
    }
   },
   "outputs": [],
   "source": [
    "trans_10.to_csv('Transformer_Sample_4.csv', index= False)"
   ]
  },
  {
   "cell_type": "code",
   "execution_count": 62,
   "id": "6709fd2e",
   "metadata": {
    "ExecuteTime": {
     "end_time": "2023-02-20T10:01:40.415799Z",
     "start_time": "2023-02-20T10:01:40.394856Z"
    }
   },
   "outputs": [
    {
     "data": {
      "text/html": [
       "<div>\n",
       "<style scoped>\n",
       "    .dataframe tbody tr th:only-of-type {\n",
       "        vertical-align: middle;\n",
       "    }\n",
       "\n",
       "    .dataframe tbody tr th {\n",
       "        vertical-align: top;\n",
       "    }\n",
       "\n",
       "    .dataframe thead th {\n",
       "        text-align: right;\n",
       "    }\n",
       "</style>\n",
       "<table border=\"1\" class=\"dataframe\">\n",
       "  <thead>\n",
       "    <tr style=\"text-align: right;\">\n",
       "      <th></th>\n",
       "      <th>Political Leaning</th>\n",
       "      <th>Transformer_Class</th>\n",
       "      <th>size</th>\n",
       "      <th>percent</th>\n",
       "    </tr>\n",
       "  </thead>\n",
       "  <tbody>\n",
       "    <tr>\n",
       "      <th>0</th>\n",
       "      <td>Democrat</td>\n",
       "      <td>0</td>\n",
       "      <td>2638</td>\n",
       "      <td>0.802556</td>\n",
       "    </tr>\n",
       "    <tr>\n",
       "      <th>1</th>\n",
       "      <td>Democrat</td>\n",
       "      <td>1</td>\n",
       "      <td>2086</td>\n",
       "      <td>0.645221</td>\n",
       "    </tr>\n",
       "    <tr>\n",
       "      <th>2</th>\n",
       "      <td>Democrat</td>\n",
       "      <td>2</td>\n",
       "      <td>2891</td>\n",
       "      <td>0.514230</td>\n",
       "    </tr>\n",
       "    <tr>\n",
       "      <th>3</th>\n",
       "      <td>Democrat</td>\n",
       "      <td>3</td>\n",
       "      <td>2102</td>\n",
       "      <td>0.594121</td>\n",
       "    </tr>\n",
       "    <tr>\n",
       "      <th>4</th>\n",
       "      <td>Democrat</td>\n",
       "      <td>4</td>\n",
       "      <td>1568</td>\n",
       "      <td>0.501439</td>\n",
       "    </tr>\n",
       "    <tr>\n",
       "      <th>5</th>\n",
       "      <td>Democrat</td>\n",
       "      <td>5</td>\n",
       "      <td>2856</td>\n",
       "      <td>0.391233</td>\n",
       "    </tr>\n",
       "    <tr>\n",
       "      <th>6</th>\n",
       "      <td>Democrat</td>\n",
       "      <td>6</td>\n",
       "      <td>988</td>\n",
       "      <td>0.495486</td>\n",
       "    </tr>\n",
       "    <tr>\n",
       "      <th>7</th>\n",
       "      <td>Democrat</td>\n",
       "      <td>7</td>\n",
       "      <td>2017</td>\n",
       "      <td>0.500745</td>\n",
       "    </tr>\n",
       "    <tr>\n",
       "      <th>8</th>\n",
       "      <td>Democrat</td>\n",
       "      <td>8</td>\n",
       "      <td>59</td>\n",
       "      <td>0.018683</td>\n",
       "    </tr>\n",
       "    <tr>\n",
       "      <th>9</th>\n",
       "      <td>Democrat</td>\n",
       "      <td>9</td>\n",
       "      <td>1052</td>\n",
       "      <td>0.363009</td>\n",
       "    </tr>\n",
       "    <tr>\n",
       "      <th>10</th>\n",
       "      <td>Non Political</td>\n",
       "      <td>0</td>\n",
       "      <td>272</td>\n",
       "      <td>0.082750</td>\n",
       "    </tr>\n",
       "    <tr>\n",
       "      <th>11</th>\n",
       "      <td>Non Political</td>\n",
       "      <td>1</td>\n",
       "      <td>791</td>\n",
       "      <td>0.244664</td>\n",
       "    </tr>\n",
       "    <tr>\n",
       "      <th>12</th>\n",
       "      <td>Non Political</td>\n",
       "      <td>2</td>\n",
       "      <td>361</td>\n",
       "      <td>0.064212</td>\n",
       "    </tr>\n",
       "    <tr>\n",
       "      <th>13</th>\n",
       "      <td>Non Political</td>\n",
       "      <td>3</td>\n",
       "      <td>727</td>\n",
       "      <td>0.205483</td>\n",
       "    </tr>\n",
       "    <tr>\n",
       "      <th>14</th>\n",
       "      <td>Non Political</td>\n",
       "      <td>4</td>\n",
       "      <td>226</td>\n",
       "      <td>0.072274</td>\n",
       "    </tr>\n",
       "    <tr>\n",
       "      <th>15</th>\n",
       "      <td>Non Political</td>\n",
       "      <td>5</td>\n",
       "      <td>3027</td>\n",
       "      <td>0.414658</td>\n",
       "    </tr>\n",
       "    <tr>\n",
       "      <th>16</th>\n",
       "      <td>Non Political</td>\n",
       "      <td>6</td>\n",
       "      <td>518</td>\n",
       "      <td>0.259779</td>\n",
       "    </tr>\n",
       "    <tr>\n",
       "      <th>17</th>\n",
       "      <td>Non Political</td>\n",
       "      <td>7</td>\n",
       "      <td>784</td>\n",
       "      <td>0.194638</td>\n",
       "    </tr>\n",
       "    <tr>\n",
       "      <th>18</th>\n",
       "      <td>Non Political</td>\n",
       "      <td>8</td>\n",
       "      <td>55</td>\n",
       "      <td>0.017416</td>\n",
       "    </tr>\n",
       "    <tr>\n",
       "      <th>19</th>\n",
       "      <td>Non Political</td>\n",
       "      <td>9</td>\n",
       "      <td>849</td>\n",
       "      <td>0.292961</td>\n",
       "    </tr>\n",
       "    <tr>\n",
       "      <th>20</th>\n",
       "      <td>Republican</td>\n",
       "      <td>0</td>\n",
       "      <td>377</td>\n",
       "      <td>0.114694</td>\n",
       "    </tr>\n",
       "    <tr>\n",
       "      <th>21</th>\n",
       "      <td>Republican</td>\n",
       "      <td>1</td>\n",
       "      <td>356</td>\n",
       "      <td>0.110114</td>\n",
       "    </tr>\n",
       "    <tr>\n",
       "      <th>22</th>\n",
       "      <td>Republican</td>\n",
       "      <td>2</td>\n",
       "      <td>2370</td>\n",
       "      <td>0.421558</td>\n",
       "    </tr>\n",
       "    <tr>\n",
       "      <th>23</th>\n",
       "      <td>Republican</td>\n",
       "      <td>3</td>\n",
       "      <td>709</td>\n",
       "      <td>0.200396</td>\n",
       "    </tr>\n",
       "    <tr>\n",
       "      <th>24</th>\n",
       "      <td>Republican</td>\n",
       "      <td>4</td>\n",
       "      <td>1333</td>\n",
       "      <td>0.426287</td>\n",
       "    </tr>\n",
       "    <tr>\n",
       "      <th>25</th>\n",
       "      <td>Republican</td>\n",
       "      <td>5</td>\n",
       "      <td>1417</td>\n",
       "      <td>0.194110</td>\n",
       "    </tr>\n",
       "    <tr>\n",
       "      <th>26</th>\n",
       "      <td>Republican</td>\n",
       "      <td>6</td>\n",
       "      <td>488</td>\n",
       "      <td>0.244734</td>\n",
       "    </tr>\n",
       "    <tr>\n",
       "      <th>27</th>\n",
       "      <td>Republican</td>\n",
       "      <td>7</td>\n",
       "      <td>1227</td>\n",
       "      <td>0.304618</td>\n",
       "    </tr>\n",
       "    <tr>\n",
       "      <th>28</th>\n",
       "      <td>Republican</td>\n",
       "      <td>8</td>\n",
       "      <td>3044</td>\n",
       "      <td>0.963901</td>\n",
       "    </tr>\n",
       "    <tr>\n",
       "      <th>29</th>\n",
       "      <td>Republican</td>\n",
       "      <td>9</td>\n",
       "      <td>997</td>\n",
       "      <td>0.344030</td>\n",
       "    </tr>\n",
       "  </tbody>\n",
       "</table>\n",
       "</div>"
      ],
      "text/plain": [
       "   Political Leaning  Transformer_Class  size   percent\n",
       "0           Democrat                  0  2638  0.802556\n",
       "1           Democrat                  1  2086  0.645221\n",
       "2           Democrat                  2  2891  0.514230\n",
       "3           Democrat                  3  2102  0.594121\n",
       "4           Democrat                  4  1568  0.501439\n",
       "5           Democrat                  5  2856  0.391233\n",
       "6           Democrat                  6   988  0.495486\n",
       "7           Democrat                  7  2017  0.500745\n",
       "8           Democrat                  8    59  0.018683\n",
       "9           Democrat                  9  1052  0.363009\n",
       "10     Non Political                  0   272  0.082750\n",
       "11     Non Political                  1   791  0.244664\n",
       "12     Non Political                  2   361  0.064212\n",
       "13     Non Political                  3   727  0.205483\n",
       "14     Non Political                  4   226  0.072274\n",
       "15     Non Political                  5  3027  0.414658\n",
       "16     Non Political                  6   518  0.259779\n",
       "17     Non Political                  7   784  0.194638\n",
       "18     Non Political                  8    55  0.017416\n",
       "19     Non Political                  9   849  0.292961\n",
       "20        Republican                  0   377  0.114694\n",
       "21        Republican                  1   356  0.110114\n",
       "22        Republican                  2  2370  0.421558\n",
       "23        Republican                  3   709  0.200396\n",
       "24        Republican                  4  1333  0.426287\n",
       "25        Republican                  5  1417  0.194110\n",
       "26        Republican                  6   488  0.244734\n",
       "27        Republican                  7  1227  0.304618\n",
       "28        Republican                  8  3044  0.963901\n",
       "29        Republican                  9   997  0.344030"
      ]
     },
     "execution_count": 62,
     "metadata": {},
     "output_type": "execute_result"
    }
   ],
   "source": [
    "com_vals"
   ]
  },
  {
   "cell_type": "code",
   "execution_count": 5,
   "id": "3c7fcd9a",
   "metadata": {
    "ExecuteTime": {
     "end_time": "2023-05-15T10:34:39.905334Z",
     "start_time": "2023-05-15T10:34:39.882395Z"
    }
   },
   "outputs": [
    {
     "data": {
      "text/html": [
       "<div>\n",
       "<style scoped>\n",
       "    .dataframe tbody tr th:only-of-type {\n",
       "        vertical-align: middle;\n",
       "    }\n",
       "\n",
       "    .dataframe tbody tr th {\n",
       "        vertical-align: top;\n",
       "    }\n",
       "\n",
       "    .dataframe thead th {\n",
       "        text-align: right;\n",
       "    }\n",
       "</style>\n",
       "<table border=\"1\" class=\"dataframe\">\n",
       "  <thead>\n",
       "    <tr style=\"text-align: right;\">\n",
       "      <th></th>\n",
       "      <th>User_handles</th>\n",
       "      <th>Bios</th>\n",
       "      <th>Class</th>\n",
       "      <th>Number</th>\n",
       "      <th>Bio_emoji</th>\n",
       "    </tr>\n",
       "  </thead>\n",
       "  <tbody>\n",
       "    <tr>\n",
       "      <th>0</th>\n",
       "      <td>ElizabethEv</td>\n",
       "      <td>A generally optimistic wife + mother | writer,...</td>\n",
       "      <td>Democrat</td>\n",
       "      <td>1.0</td>\n",
       "      <td>A generally optimistic wife + mother | writer,...</td>\n",
       "    </tr>\n",
       "    <tr>\n",
       "      <th>1</th>\n",
       "      <td>AloeLanding</td>\n",
       "      <td>Following US politics, local and world news an...</td>\n",
       "      <td>Democrat</td>\n",
       "      <td>1.0</td>\n",
       "      <td>Following US politics, local and world news an...</td>\n",
       "    </tr>\n",
       "    <tr>\n",
       "      <th>2</th>\n",
       "      <td>scburdet</td>\n",
       "      <td>Completely transparent chemistry troll. Runner...</td>\n",
       "      <td>Non Political</td>\n",
       "      <td>2.0</td>\n",
       "      <td>Completely transparent chemistry troll. Runner...</td>\n",
       "    </tr>\n",
       "    <tr>\n",
       "      <th>3</th>\n",
       "      <td>Sanjosebrandon</td>\n",
       "      <td>I follow God, what’s in my heart and others th...</td>\n",
       "      <td>Non Political</td>\n",
       "      <td>2.0</td>\n",
       "      <td>I follow God, what’s in my heart and others th...</td>\n",
       "    </tr>\n",
       "    <tr>\n",
       "      <th>4</th>\n",
       "      <td>Gigi2my3</td>\n",
       "      <td>:raised_hand:DM :prohibited::victory_hand:Vega...</td>\n",
       "      <td>Democrat</td>\n",
       "      <td>0.0</td>\n",
       "      <td>:raised_hand:DM :prohibited::victory_hand:Vega...</td>\n",
       "    </tr>\n",
       "  </tbody>\n",
       "</table>\n",
       "</div>"
      ],
      "text/plain": [
       "     User_handles                                               Bios  \\\n",
       "0     ElizabethEv  A generally optimistic wife + mother | writer,...   \n",
       "1     AloeLanding  Following US politics, local and world news an...   \n",
       "2        scburdet  Completely transparent chemistry troll. Runner...   \n",
       "3  Sanjosebrandon  I follow God, what’s in my heart and others th...   \n",
       "4        Gigi2my3  :raised_hand:DM :prohibited::victory_hand:Vega...   \n",
       "\n",
       "           Class  Number                                          Bio_emoji  \n",
       "0       Democrat     1.0  A generally optimistic wife + mother | writer,...  \n",
       "1       Democrat     1.0  Following US politics, local and world news an...  \n",
       "2  Non Political     2.0  Completely transparent chemistry troll. Runner...  \n",
       "3  Non Political     2.0  I follow God, what’s in my heart and others th...  \n",
       "4       Democrat     0.0  :raised_hand:DM :prohibited::victory_hand:Vega...  "
      ]
     },
     "execution_count": 5,
     "metadata": {},
     "output_type": "execute_result"
    }
   ],
   "source": [
    "df.head()"
   ]
  },
  {
   "cell_type": "markdown",
   "id": "e949dbc5",
   "metadata": {},
   "source": [
    "# Comparing Clustering with Political Affiliation"
   ]
  },
  {
   "cell_type": "code",
   "execution_count": 9,
   "id": "57e9cc01",
   "metadata": {
    "ExecuteTime": {
     "end_time": "2023-05-15T10:35:24.276439Z",
     "start_time": "2023-05-15T10:35:24.251506Z"
    }
   },
   "outputs": [],
   "source": [
    "from mizani.formatters import percent_format\n",
    "from plotnine import *\n",
    "from mizani.formatters import percent_format\n",
    "from plotnine import *\n",
    "com_vals = pd.DataFrame(df.groupby(['Class','Transformer_Class_10'], as_index=False).size())\n",
    "com_vals['percent'] =  com_vals['size'] / com_vals.groupby('Transformer_Class_10')['size'].transform('sum')\n",
    "com_vals.columns = ['Political Leaning', 'Transformer_Class','size','percent']\n"
   ]
  },
  {
   "cell_type": "code",
   "execution_count": 10,
   "id": "4b4d205d",
   "metadata": {
    "ExecuteTime": {
     "end_time": "2023-05-15T10:35:25.802768Z",
     "start_time": "2023-05-15T10:35:25.794791Z"
    }
   },
   "outputs": [],
   "source": [
    "com_vals['Transformer_Class'] = com_vals['Transformer_Class'].astype(str)\n",
    "com_vals['Transformer_Class'] = com_vals['Transformer_Class'].replace(['0', '1', '2', '3', '4', '5', '6', '7', '8', '9'], ['Left-leaning', 'Artistic bios', 'Political', 'Occupations', 'Relational', 'General bios', 'Meta Bios', 'Quotes', 'Right-leaning', 'Emojis'])"
   ]
  },
  {
   "cell_type": "code",
   "execution_count": null,
   "id": "333c07cc",
   "metadata": {
    "ExecuteTime": {
     "end_time": "2023-02-20T10:09:23.717236Z",
     "start_time": "2023-02-20T10:09:23.697245Z"
    }
   },
   "outputs": [],
   "source": []
  },
  {
   "cell_type": "code",
   "execution_count": null,
   "id": "9314b66d",
   "metadata": {
    "ExecuteTime": {
     "end_time": "2023-02-20T10:10:12.185455Z",
     "start_time": "2023-02-20T10:10:12.176480Z"
    }
   },
   "outputs": [],
   "source": []
  },
  {
   "cell_type": "code",
   "execution_count": 11,
   "id": "a2645e70",
   "metadata": {
    "ExecuteTime": {
     "end_time": "2023-05-15T10:35:29.992846Z",
     "start_time": "2023-05-15T10:35:29.968879Z"
    }
   },
   "outputs": [
    {
     "data": {
      "text/html": [
       "<div>\n",
       "<style scoped>\n",
       "    .dataframe tbody tr th:only-of-type {\n",
       "        vertical-align: middle;\n",
       "    }\n",
       "\n",
       "    .dataframe tbody tr th {\n",
       "        vertical-align: top;\n",
       "    }\n",
       "\n",
       "    .dataframe thead th {\n",
       "        text-align: right;\n",
       "    }\n",
       "</style>\n",
       "<table border=\"1\" class=\"dataframe\">\n",
       "  <thead>\n",
       "    <tr style=\"text-align: right;\">\n",
       "      <th></th>\n",
       "      <th>Political Leaning</th>\n",
       "      <th>Transformer_Class</th>\n",
       "      <th>size</th>\n",
       "      <th>percent</th>\n",
       "    </tr>\n",
       "  </thead>\n",
       "  <tbody>\n",
       "    <tr>\n",
       "      <th>0</th>\n",
       "      <td>Democrat</td>\n",
       "      <td>Left-leaning</td>\n",
       "      <td>2638</td>\n",
       "      <td>0.802556</td>\n",
       "    </tr>\n",
       "    <tr>\n",
       "      <th>1</th>\n",
       "      <td>Democrat</td>\n",
       "      <td>Artistic bios</td>\n",
       "      <td>2086</td>\n",
       "      <td>0.645221</td>\n",
       "    </tr>\n",
       "    <tr>\n",
       "      <th>2</th>\n",
       "      <td>Democrat</td>\n",
       "      <td>Political</td>\n",
       "      <td>2891</td>\n",
       "      <td>0.514230</td>\n",
       "    </tr>\n",
       "    <tr>\n",
       "      <th>3</th>\n",
       "      <td>Democrat</td>\n",
       "      <td>Occupations</td>\n",
       "      <td>2102</td>\n",
       "      <td>0.594121</td>\n",
       "    </tr>\n",
       "    <tr>\n",
       "      <th>4</th>\n",
       "      <td>Democrat</td>\n",
       "      <td>Relational</td>\n",
       "      <td>1568</td>\n",
       "      <td>0.501439</td>\n",
       "    </tr>\n",
       "    <tr>\n",
       "      <th>5</th>\n",
       "      <td>Democrat</td>\n",
       "      <td>General bios</td>\n",
       "      <td>2856</td>\n",
       "      <td>0.391233</td>\n",
       "    </tr>\n",
       "    <tr>\n",
       "      <th>6</th>\n",
       "      <td>Democrat</td>\n",
       "      <td>Meta Bios</td>\n",
       "      <td>988</td>\n",
       "      <td>0.495486</td>\n",
       "    </tr>\n",
       "    <tr>\n",
       "      <th>7</th>\n",
       "      <td>Democrat</td>\n",
       "      <td>Quotes</td>\n",
       "      <td>2017</td>\n",
       "      <td>0.500745</td>\n",
       "    </tr>\n",
       "    <tr>\n",
       "      <th>8</th>\n",
       "      <td>Democrat</td>\n",
       "      <td>Right-leaning</td>\n",
       "      <td>59</td>\n",
       "      <td>0.018683</td>\n",
       "    </tr>\n",
       "    <tr>\n",
       "      <th>9</th>\n",
       "      <td>Democrat</td>\n",
       "      <td>Emojis</td>\n",
       "      <td>1052</td>\n",
       "      <td>0.363009</td>\n",
       "    </tr>\n",
       "    <tr>\n",
       "      <th>10</th>\n",
       "      <td>Non Political</td>\n",
       "      <td>Left-leaning</td>\n",
       "      <td>272</td>\n",
       "      <td>0.082750</td>\n",
       "    </tr>\n",
       "    <tr>\n",
       "      <th>11</th>\n",
       "      <td>Non Political</td>\n",
       "      <td>Artistic bios</td>\n",
       "      <td>791</td>\n",
       "      <td>0.244664</td>\n",
       "    </tr>\n",
       "    <tr>\n",
       "      <th>12</th>\n",
       "      <td>Non Political</td>\n",
       "      <td>Political</td>\n",
       "      <td>361</td>\n",
       "      <td>0.064212</td>\n",
       "    </tr>\n",
       "    <tr>\n",
       "      <th>13</th>\n",
       "      <td>Non Political</td>\n",
       "      <td>Occupations</td>\n",
       "      <td>727</td>\n",
       "      <td>0.205483</td>\n",
       "    </tr>\n",
       "    <tr>\n",
       "      <th>14</th>\n",
       "      <td>Non Political</td>\n",
       "      <td>Relational</td>\n",
       "      <td>226</td>\n",
       "      <td>0.072274</td>\n",
       "    </tr>\n",
       "    <tr>\n",
       "      <th>15</th>\n",
       "      <td>Non Political</td>\n",
       "      <td>General bios</td>\n",
       "      <td>3027</td>\n",
       "      <td>0.414658</td>\n",
       "    </tr>\n",
       "    <tr>\n",
       "      <th>16</th>\n",
       "      <td>Non Political</td>\n",
       "      <td>Meta Bios</td>\n",
       "      <td>518</td>\n",
       "      <td>0.259779</td>\n",
       "    </tr>\n",
       "    <tr>\n",
       "      <th>17</th>\n",
       "      <td>Non Political</td>\n",
       "      <td>Quotes</td>\n",
       "      <td>784</td>\n",
       "      <td>0.194638</td>\n",
       "    </tr>\n",
       "    <tr>\n",
       "      <th>18</th>\n",
       "      <td>Non Political</td>\n",
       "      <td>Right-leaning</td>\n",
       "      <td>55</td>\n",
       "      <td>0.017416</td>\n",
       "    </tr>\n",
       "    <tr>\n",
       "      <th>19</th>\n",
       "      <td>Non Political</td>\n",
       "      <td>Emojis</td>\n",
       "      <td>849</td>\n",
       "      <td>0.292961</td>\n",
       "    </tr>\n",
       "    <tr>\n",
       "      <th>20</th>\n",
       "      <td>Republican</td>\n",
       "      <td>Left-leaning</td>\n",
       "      <td>377</td>\n",
       "      <td>0.114694</td>\n",
       "    </tr>\n",
       "    <tr>\n",
       "      <th>21</th>\n",
       "      <td>Republican</td>\n",
       "      <td>Artistic bios</td>\n",
       "      <td>356</td>\n",
       "      <td>0.110114</td>\n",
       "    </tr>\n",
       "    <tr>\n",
       "      <th>22</th>\n",
       "      <td>Republican</td>\n",
       "      <td>Political</td>\n",
       "      <td>2370</td>\n",
       "      <td>0.421558</td>\n",
       "    </tr>\n",
       "    <tr>\n",
       "      <th>23</th>\n",
       "      <td>Republican</td>\n",
       "      <td>Occupations</td>\n",
       "      <td>709</td>\n",
       "      <td>0.200396</td>\n",
       "    </tr>\n",
       "    <tr>\n",
       "      <th>24</th>\n",
       "      <td>Republican</td>\n",
       "      <td>Relational</td>\n",
       "      <td>1333</td>\n",
       "      <td>0.426287</td>\n",
       "    </tr>\n",
       "    <tr>\n",
       "      <th>25</th>\n",
       "      <td>Republican</td>\n",
       "      <td>General bios</td>\n",
       "      <td>1417</td>\n",
       "      <td>0.194110</td>\n",
       "    </tr>\n",
       "    <tr>\n",
       "      <th>26</th>\n",
       "      <td>Republican</td>\n",
       "      <td>Meta Bios</td>\n",
       "      <td>488</td>\n",
       "      <td>0.244734</td>\n",
       "    </tr>\n",
       "    <tr>\n",
       "      <th>27</th>\n",
       "      <td>Republican</td>\n",
       "      <td>Quotes</td>\n",
       "      <td>1227</td>\n",
       "      <td>0.304618</td>\n",
       "    </tr>\n",
       "    <tr>\n",
       "      <th>28</th>\n",
       "      <td>Republican</td>\n",
       "      <td>Right-leaning</td>\n",
       "      <td>3044</td>\n",
       "      <td>0.963901</td>\n",
       "    </tr>\n",
       "    <tr>\n",
       "      <th>29</th>\n",
       "      <td>Republican</td>\n",
       "      <td>Emojis</td>\n",
       "      <td>997</td>\n",
       "      <td>0.344030</td>\n",
       "    </tr>\n",
       "  </tbody>\n",
       "</table>\n",
       "</div>"
      ],
      "text/plain": [
       "   Political Leaning Transformer_Class  size   percent\n",
       "0           Democrat      Left-leaning  2638  0.802556\n",
       "1           Democrat     Artistic bios  2086  0.645221\n",
       "2           Democrat         Political  2891  0.514230\n",
       "3           Democrat       Occupations  2102  0.594121\n",
       "4           Democrat        Relational  1568  0.501439\n",
       "5           Democrat      General bios  2856  0.391233\n",
       "6           Democrat         Meta Bios   988  0.495486\n",
       "7           Democrat            Quotes  2017  0.500745\n",
       "8           Democrat     Right-leaning    59  0.018683\n",
       "9           Democrat            Emojis  1052  0.363009\n",
       "10     Non Political      Left-leaning   272  0.082750\n",
       "11     Non Political     Artistic bios   791  0.244664\n",
       "12     Non Political         Political   361  0.064212\n",
       "13     Non Political       Occupations   727  0.205483\n",
       "14     Non Political        Relational   226  0.072274\n",
       "15     Non Political      General bios  3027  0.414658\n",
       "16     Non Political         Meta Bios   518  0.259779\n",
       "17     Non Political            Quotes   784  0.194638\n",
       "18     Non Political     Right-leaning    55  0.017416\n",
       "19     Non Political            Emojis   849  0.292961\n",
       "20        Republican      Left-leaning   377  0.114694\n",
       "21        Republican     Artistic bios   356  0.110114\n",
       "22        Republican         Political  2370  0.421558\n",
       "23        Republican       Occupations   709  0.200396\n",
       "24        Republican        Relational  1333  0.426287\n",
       "25        Republican      General bios  1417  0.194110\n",
       "26        Republican         Meta Bios   488  0.244734\n",
       "27        Republican            Quotes  1227  0.304618\n",
       "28        Republican     Right-leaning  3044  0.963901\n",
       "29        Republican            Emojis   997  0.344030"
      ]
     },
     "execution_count": 11,
     "metadata": {},
     "output_type": "execute_result"
    }
   ],
   "source": [
    "com_vals"
   ]
  },
  {
   "cell_type": "code",
   "execution_count": 12,
   "id": "134e3448",
   "metadata": {
    "ExecuteTime": {
     "end_time": "2023-05-15T10:35:34.115418Z",
     "start_time": "2023-05-15T10:35:33.731372Z"
    }
   },
   "outputs": [
    {
     "name": "stderr",
     "output_type": "stream",
     "text": [
      "C:\\Users\\justi\\anaconda3\\lib\\site-packages\\plotnine\\ggplot.py:718: PlotnineWarning: Saving 22.000000000000004 x 18.0 cm image.\n",
      "C:\\Users\\justi\\anaconda3\\lib\\site-packages\\plotnine\\ggplot.py:719: PlotnineWarning: Filename: Transformer_Pol_Dis.pdf\n"
     ]
    }
   ],
   "source": [
    "vis_plot = (ggplot(com_vals, aes(x='Transformer_Class',y = 'percent', fill = 'Political Leaning')) +\n",
    "            geom_col() +\n",
    "            #scale_x_continuous(breaks = np.arange(0,10,1)) +\n",
    "            scale_fill_manual(['#0D5E8D','#8BB5D4','#982C18','yellow']) +\n",
    "            xlab('Cluster') +\n",
    "            ylab('Percentage of bios by Political Affiliation') +\n",
    "            theme(figure_size=(16, 12),\n",
    "        legend_position= (0.5, -0.35),\n",
    "        legend_direction=\"horizontal\",\n",
    "        legend_title_align=\"center\",\n",
    "        legend_box_spacing=0.7,\n",
    "        legend_key=element_blank(),\n",
    "        axis_line=element_line(size=1, colour=\"black\"),\n",
    "        panel_grid_major= element_blank(),#element_line(colour=\"#d3d3d3\"),\n",
    "        panel_grid_minor=element_blank(),\n",
    "        panel_border=element_blank(),\n",
    "        panel_background=element_blank(),\n",
    "        plot_title=element_text(size=20, family=\"Tahoma\", \n",
    "                                face=\"bold\"),\n",
    "        text=element_text(family=\"Tahoma\", size=20),\n",
    "        axis_text_x=element_text(colour=\"black\", size=20, angle = 90),\n",
    "        axis_text_y=element_text(colour=\"black\", size=20),\n",
    "    ) +\n",
    "            scale_y_continuous(limits = [0,1],labels=percent_format()))\n",
    "vis_plot \n",
    "vis_plot.save(filename = 'Transformer_Pol_Dis.pdf', height=18, width=22, units = 'cm', dpi=1200)"
   ]
  },
  {
   "cell_type": "code",
   "execution_count": 13,
   "id": "e5ce7f33",
   "metadata": {
    "ExecuteTime": {
     "end_time": "2023-05-15T10:35:36.990390Z",
     "start_time": "2023-05-15T10:35:36.707565Z"
    }
   },
   "outputs": [
    {
     "data": {
      "image/png": "[encoded data removed]",
      "text/plain": [
       "<Figure size 1600x1200 with 1 Axes>"
      ]
     },
     "metadata": {},
     "output_type": "display_data"
    },
    {
     "data": {
      "text/plain": [
       "<ggplot: (163716195533)>"
      ]
     },
     "execution_count": 13,
     "metadata": {},
     "output_type": "execute_result"
    }
   ],
   "source": [
    "vis_plot"
   ]
  },
  {
   "cell_type": "code",
   "execution_count": null,
   "id": "c2799ae9",
   "metadata": {},
   "outputs": [],
   "source": []
  }
 ],
 "metadata": {
  "hide_input": false,
  "kernelspec": {
   "display_name": "Python 3 (ipykernel)",
   "language": "python",
   "name": "python3"
  },
  "language_info": {
   "codemirror_mode": {
    "name": "ipython",
    "version": 3
   },
   "file_extension": ".py",
   "mimetype": "text/x-python",
   "name": "python",
   "nbconvert_exporter": "python",
   "pygments_lexer": "ipython3",
   "version": "3.9.12"
  },
  "varInspector": {
   "cols": {
    "lenName": 16,
    "lenType": 16,
    "lenVar": 40
   },
   "kernels_config": {
    "python": {
     "delete_cmd_postfix": "",
     "delete_cmd_prefix": "del ",
     "library": "var_list.py",
     "varRefreshCmd": "print(var_dic_list())"
    },
    "r": {
     "delete_cmd_postfix": ") ",
     "delete_cmd_prefix": "rm(",
     "library": "var_list.r",
     "varRefreshCmd": "cat(var_dic_list()) "
    }
   },
   "position": {
    "height": "741.844px",
    "left": "1666.42px",
    "right": "20px",
    "top": "104px",
    "width": "350px"
   },
   "types_to_exclude": [
    "module",
    "function",
    "builtin_function_or_method",
    "instance",
    "_Feature"
   ],
   "window_display": false
  }
 },
 "nbformat": 4,
 "nbformat_minor": 5
}
